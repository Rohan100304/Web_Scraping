{
 "cells": [
  {
   "cell_type": "code",
   "execution_count": 4,
   "id": "d97b8095-0403-43b6-8ae1-ab449d905b83",
   "metadata": {},
   "outputs": [],
   "source": [
    "import time\n",
    "from selenium import webdriver\n",
    "from selenium.webdriver.common.by import By\n",
    "from selenium.webdriver.common.keys import Keys\n"
   ]
  },
  {
   "cell_type": "code",
   "execution_count": 3,
   "id": "98bfe2ad-ebb8-4e38-b8da-df124474e7ac",
   "metadata": {},
   "outputs": [],
   "source": [
    "driver = webdriver.Chrome()\n",
    "driver.get('https://www.instagram.com/')\n",
    "\n",
    "driver.maximize_window()\n",
    "\n",
    "login_id = driver.find_element(By.XPATH,'/html[1]/body[1]/div[1]/div[1]/div[1]/div[2]/div[1]/div[1]/div[1]/div[1]/div[1]/section[1]/main[1]/article[1]/div[2]/div[1]/div[2]/div[1]/form[1]/div[1]/div[1]/div[1]/label[1]/input[1]')\n",
    "time.sleep(1)\n",
    "\n",
    "login_id.send_keys('rohanprabhakar98@gmail.com')\n",
    "time.sleep(1)\n",
    "\n",
    "passowrd= driver.find_element(By.XPATH,'//*[@id=\"loginForm\"]/div[1]/div[2]/div/label/input')\n",
    "passowrd.send_keys('rohan.prabh')\n",
    "\n",
    "login_path = driver.find_element(By.XPATH,'//*[@id=\"loginForm\"]/div[1]/div[3]')\n",
    "login_path.click()\n",
    "time.sleep(3)\n",
    "\n",
    "login_id.send_keys(Keys.CONTROL + 'a')   # select all\n",
    "time.sleep(1)\n",
    "login_id.send_keys(Keys.DELETE) \n",
    "\n",
    "passowrd.send_keys(Keys.CONTROL + 'a')   # select all\n",
    "time.sleep(1)\n",
    "passowrd.send_keys(Keys.DELETE) \n",
    "\n",
    "time.sleep(1)\n",
    "\n",
    "login_id.send_keys('rohanprabhakar98@gmail.com')\n",
    "time.sleep(1)\n",
    "\n",
    "passowrd.send_keys('rohan')\n",
    "\n",
    "login_path = driver.find_element(By.XPATH,'//*[@id=\"loginForm\"]/div[1]/div[3]')\n",
    "login_path.click()\n",
    "\n",
    "\n"
   ]
  },
  {
   "cell_type": "markdown",
   "id": "58bd4b39-22de-4486-8e83-d6889efb582a",
   "metadata": {},
   "source": [
    "\n",
    "#\n",
    "## POM method\n"
   ]
  },
  {
   "cell_type": "code",
   "execution_count": 7,
   "id": "c0905f54-276f-4e3d-8930-206badd4fe06",
   "metadata": {},
   "outputs": [
    {
     "name": "stdout",
     "output_type": "stream",
     "text": [
      "Login Successful!!\n",
      "\n",
      "Page closed\n",
      "\n"
     ]
    }
   ],
   "source": [
    "driver = webdriver.Chrome()\n",
    "\n",
    "url = 'https://www.instagram.com/'\n",
    "driver.get(url)\n",
    "\n",
    "driver.implicitly_wait(4)\n",
    "\n",
    "class login_page:\n",
    "    def __init__(self,driver):\n",
    "        self.driver = driver\n",
    "        self.login_id = driver.find_element(By.XPATH,'/html[1]/body[1]/div[1]/div[1]/div[1]/div[2]/div[1]/div[1]/div[1]/div[1]/div[1]/section[1]/main[1]/article[1]/div[2]/div[1]/div[2]/div[1]/form[1]/div[1]/div[1]/div[1]/label[1]/input[1]')\n",
    "        self.password = driver.find_element(By.XPATH,'//*[@id=\"loginForm\"]/div[1]/div[2]/div/label/input')\n",
    "        self.login_button = driver.find_element(By.XPATH,'//*[@id=\"loginForm\"]/div[1]/div[3]')\n",
    "\n",
    "    def login(self,login_id,password):\n",
    "        self.login_id.send_keys(login_id)\n",
    "        time.sleep(1)\n",
    "        self.password.send_keys(password)\n",
    "        time.sleep(1)\n",
    "        self.login_button.click()\n",
    "\n",
    "log_in = login_page(driver)\n",
    "log_in.login(\"abc@gmail.com\",'rohan.prabhalar')\n",
    "\n",
    "print('Login Successful!!')\n",
    "\n",
    "time.sleep(3)\n",
    "driver.close()\n",
    "print('\\nPage closed\\n')"
   ]
  },
  {
   "cell_type": "code",
   "execution_count": null,
   "id": "7449f722-2378-45a7-958d-5f129535d65c",
   "metadata": {},
   "outputs": [],
   "source": []
  }
 ],
 "metadata": {
  "kernelspec": {
   "display_name": "Python 3 (ipykernel)",
   "language": "python",
   "name": "python3"
  },
  "language_info": {
   "codemirror_mode": {
    "name": "ipython",
    "version": 3
   },
   "file_extension": ".py",
   "mimetype": "text/x-python",
   "name": "python",
   "nbconvert_exporter": "python",
   "pygments_lexer": "ipython3",
   "version": "3.13.3"
  }
 },
 "nbformat": 4,
 "nbformat_minor": 5
}
