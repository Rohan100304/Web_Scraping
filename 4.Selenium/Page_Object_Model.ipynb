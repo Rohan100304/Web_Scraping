{
 "cells": [
  {
   "cell_type": "markdown",
   "id": "a79713c6-1f45-4e4f-8426-9fcb613f722b",
   "metadata": {},
   "source": [
    "# POM Method (Page Object Model)\n",
    "#### POM is a design pattern that structures automated tests to improve maintainability, reusability, and readability."
   ]
  },
  {
   "cell_type": "code",
   "execution_count": 1,
   "id": "c936f377-fbbe-43ad-8069-a546b645b6be",
   "metadata": {},
   "outputs": [],
   "source": [
    "import time\n",
    "from selenium import webdriver\n",
    "from selenium.webdriver.common.by import By\n",
    "from selenium.webdriver.common.keys import Keys\n"
   ]
  },
  {
   "cell_type": "code",
   "execution_count": 2,
   "id": "cb206d4e-40c2-4308-bcc9-cb7a719fe36c",
   "metadata": {},
   "outputs": [
    {
     "name": "stdout",
     "output_type": "stream",
     "text": [
      "Login Successful!!\n",
      "\n",
      "Page closed\n",
      "\n"
     ]
    }
   ],
   "source": [
    "driver = webdriver.Chrome()\n",
    "\n",
    "url = 'https://www.instagram.com/'\n",
    "driver.get(url)\n",
    "\n",
    "driver.implicitly_wait(4)\n",
    "\n",
    "class login_page:\n",
    "    def __init__(self,driver):\n",
    "        self.driver = driver\n",
    "        self.login_id = driver.find_element(By.XPATH,'/html[1]/body[1]/div[1]/div[1]/div[1]/div[2]/div[1]/div[1]/div[1]/div[1]/div[1]/section[1]/main[1]/article[1]/div[2]/div[1]/div[2]/div[1]/form[1]/div[1]/div[1]/div[1]/label[1]/input[1]')\n",
    "        self.password = driver.find_element(By.XPATH,'//*[@id=\"loginForm\"]/div[1]/div[2]/div/label/input')\n",
    "        self.login_button = driver.find_element(By.XPATH,'//*[@id=\"loginForm\"]/div[1]/div[3]')\n",
    "\n",
    "    def login(self,login_id,password):\n",
    "        self.login_id.send_keys(login_id)\n",
    "        time.sleep(1)\n",
    "        self.password.send_keys(password)\n",
    "        time.sleep(1)\n",
    "        self.login_button.click()\n",
    "\n",
    "log_in = login_page(driver)\n",
    "log_in.login(\"abc@gmail.com\",'rohan.prabhalar')\n",
    "\n",
    "print('Login Successful!!')\n",
    "\n",
    "time.sleep(10)\n",
    "driver.close()\n",
    "print('\\nPage closed\\n')"
   ]
  },
  {
   "cell_type": "code",
   "execution_count": null,
   "id": "837a9295-4368-4203-bcbd-e0e72946cf65",
   "metadata": {},
   "outputs": [],
   "source": []
  }
 ],
 "metadata": {
  "kernelspec": {
   "display_name": "Python 3 (ipykernel)",
   "language": "python",
   "name": "python3"
  },
  "language_info": {
   "codemirror_mode": {
    "name": "ipython",
    "version": 3
   },
   "file_extension": ".py",
   "mimetype": "text/x-python",
   "name": "python",
   "nbconvert_exporter": "python",
   "pygments_lexer": "ipython3",
   "version": "3.13.5"
  }
 },
 "nbformat": 4,
 "nbformat_minor": 5
}
