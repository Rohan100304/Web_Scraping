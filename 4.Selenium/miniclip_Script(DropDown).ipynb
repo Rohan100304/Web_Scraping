{
 "cells": [
  {
   "cell_type": "code",
   "execution_count": 11,
   "id": "c8e67df4-b982-4c4f-a04c-3dbb44d84057",
   "metadata": {},
   "outputs": [],
   "source": [
    "import time\n",
    "from selenium import webdriver\n",
    "from selenium.webdriver.common.by import By\n",
    "from selenium.webdriver.support.select import Select\n",
    "from selenium.webdriver.common.keys import Keys"
   ]
  },
  {
   "cell_type": "code",
   "execution_count": 12,
   "id": "f1f3987f-3722-4737-8268-8c73190a447a",
   "metadata": {},
   "outputs": [],
   "source": [
    "driver = webdriver.Chrome()\n",
    "\n",
    "driver.maximize_window()\n",
    "\n",
    "\n",
    "## Visiting to the url\n",
    "\n",
    "url= 'https://www.miniclip.com/careers/vacancies'\n",
    "driver.get(url)\n",
    "\n",
    "\n",
    "## Chosing Fields\n",
    "\n",
    "time.sleep(1)\n",
    "field1 = driver.find_element(By.XPATH,'//*[@id=\"__layout\"]/div/div/section[2]/div/fieldset[2]/select')\n",
    "selector = Select(field1)\n",
    "selector.select_by_visible_text('London, United Kingdom')\n",
    "\n",
    "time.sleep(1)\n",
    "field2 = driver.find_element(By.XPATH,'//*[@id=\"__layout\"]/div/div/section[2]/div/fieldset[3]/select')\n",
    "selector = Select(field2)\n",
    "selector.select_by_index(1)\n",
    "\n",
    "\n",
    "## Selecting the Position to be applied\n",
    "\n",
    "time.sleep(1)\n",
    "click_path = driver.find_element(By.XPATH,'//*[@id=\"__layout\"]/div/div/section[3]/div[2]/ul/li/span[1]/a[2]')\n",
    "click_path.click()\n",
    "\n",
    "## New page Cookie to be accepted\n",
    "time.sleep(2)\n",
    "path = driver.find_element(By.XPATH,'//*[@id=\"cookie-accept\"]')\n",
    "path.click()\n",
    "\n",
    "## Clicking on apply\n",
    "\n",
    "time.sleep(3)\n",
    "apply = driver.find_element(By.XPATH,'//*[@id=\"content\"]/div/div[2]/div/div[1]/div/a')\n",
    "apply.click()\n",
    "\n",
    "\n",
    "## Entering login details and logging in\n",
    "\n",
    "time.sleep(4)\n",
    "login = driver.find_element(By.XPATH,'//*[@id=\"username\"]')\n",
    "login.send_keys('abc2004@gmail.com')\n",
    "\n",
    "password = driver.find_element(By.XPATH,'//*[@id=\"password\"]')\n",
    "password.send_keys('abc2004@gmail.com')\n",
    "\n",
    "enter = driver.find_element(By.XPATH,'//*[@id=\"page_content\"]/div[2]/div/div/div[2]/div/div/table/tbody/tr[3]/td[2]/span[1]/span/button')\n",
    "enter.click()\n"
   ]
  },
  {
   "cell_type": "markdown",
   "id": "2fa2d2ce-7717-45f3-a7a5-18c67497ced1",
   "metadata": {},
   "source": [
    "#\n",
    "## Script for multi-Select"
   ]
  },
  {
   "cell_type": "code",
   "execution_count": null,
   "id": "bad85e9a-53d4-4a4f-86ff-e1d9a0ff3a23",
   "metadata": {},
   "outputs": [],
   "source": [
    "import time\n",
    "from selenium import webdriver\n",
    "from selenium.webdriver.common.by import By\n",
    "from selenium.webdriver.support.select import Select\n"
   ]
  },
  {
   "cell_type": "code",
   "execution_count": 8,
   "id": "d426d650-30ac-4d22-a7cf-dd648c513680",
   "metadata": {},
   "outputs": [],
   "source": [
    "\n",
    "driver = webdriver.Chrome()\n",
    "driver.maximize_window()\n",
    "\n",
    "url = 'https://demoqa.com/select-menu'\n",
    "driver.get(url)\n",
    "time.sleep(2)\n",
    "\n",
    "cars_element = driver.find_element(By.XPATH, '//*[@id=\"cars\"]')\n",
    "\n",
    "cars_ms = Select(cars_element)\n",
    "\n",
    "time.sleep(2)\n",
    "\n",
    "# selecting options\n",
    "\n",
    "cars_ms.select_by_index(1)\n",
    "time.sleep(1)\n",
    "\n",
    "cars_ms.select_by_visible_text(\"Opel\")\n",
    "time.sleep(1)\n",
    "\n",
    "cars_ms.select_by_visible_text(\"Audi\")\n",
    "time.sleep(1)\n",
    "\n",
    "# deselecting options\n",
    "\n",
    "cars_ms.deselect_by_index(2)\n",
    "time.sleep(1)\n",
    "\n",
    "cars_ms.deselect_all()\n",
    "time.sleep(3)\n",
    "\n",
    "driver.quit()"
   ]
  },
  {
   "cell_type": "code",
   "execution_count": null,
   "id": "0b1f22f3-a590-413d-8eed-f59824b32b8b",
   "metadata": {},
   "outputs": [],
   "source": []
  }
 ],
 "metadata": {
  "kernelspec": {
   "display_name": "Python 3 (ipykernel)",
   "language": "python",
   "name": "python3"
  },
  "language_info": {
   "codemirror_mode": {
    "name": "ipython",
    "version": 3
   },
   "file_extension": ".py",
   "mimetype": "text/x-python",
   "name": "python",
   "nbconvert_exporter": "python",
   "pygments_lexer": "ipython3",
   "version": "3.13.5"
  }
 },
 "nbformat": 4,
 "nbformat_minor": 5
}
