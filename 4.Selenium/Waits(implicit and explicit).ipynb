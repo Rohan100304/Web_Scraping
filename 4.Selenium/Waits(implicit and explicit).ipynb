{
 "cells": [
  {
   "cell_type": "markdown",
   "id": "0e6617c0-a75e-4bf7-87eb-2cea0a5e3855",
   "metadata": {},
   "source": [
    "# \n",
    "## Explicit wait\n",
    "An explicit wait in Selenium is a way to pause test execution until a specific condition is met for a particular element or set of elements"
   ]
  },
  {
   "cell_type": "code",
   "execution_count": 11,
   "id": "fca0e36d-5098-4ee2-a89a-97abfef39b64",
   "metadata": {},
   "outputs": [],
   "source": [
    "import time\n",
    "from selenium import webdriver\n",
    "from selenium.webdriver.common.keys import Keys\n",
    "from selenium.webdriver.common.by import By\n",
    "from selenium.webdriver.support.select import Select\n",
    "from selenium.webdriver.support.ui import WebDriverWait\n",
    "from selenium.webdriver.support import expected_conditions as ec"
   ]
  },
  {
   "cell_type": "code",
   "execution_count": 19,
   "id": "470d66da-b0f7-4bd9-ba2d-e24c8a77c9b1",
   "metadata": {},
   "outputs": [],
   "source": [
    "driver = webdriver.Chrome()\n",
    "\n",
    "driver.get('https://www.google.com/')\n",
    "time.sleep(2)\n",
    "bar = driver.find_element(By.XPATH,'//*[@id=\"APjFqb\"]')\n",
    "bar.send_keys('linkedin')\n",
    "\n",
    "## Making sure that the link is ready to execute\n",
    "wait = WebDriverWait(driver, 20)\n",
    "wait.until(ec.element_to_be_clickable((By.XPATH,'/html/body/div[1]/div[3]/form/div[1]/div[1]/div[3]/center/input[1]')))\n",
    "\n",
    "bar.send_keys(Keys.ENTER)\n",
    "\n",
    "time.sleep(1)\n",
    "\n",
    "driver.close()\n"
   ]
  },
  {
   "cell_type": "markdown",
   "id": "826ac314-36a1-4ed5-ad08-f165ff99b41f",
   "metadata": {},
   "source": [
    "#\n",
    "## Implicit wait\n",
    "An implicit wait in Selenium WebDriver instructs the browser to wait for a specific amount of time before throwing an exception when trying to find an element. "
   ]
  },
  {
   "cell_type": "code",
   "execution_count": 20,
   "id": "bb0d5052-8875-47d2-bb3f-e37273c89ca1",
   "metadata": {},
   "outputs": [],
   "source": [
    "import time\n",
    "from selenium import webdriver\n",
    "from selenium.webdriver.common.by import By\n",
    "from selenium.webdriver.common.keys import Keys\n"
   ]
  },
  {
   "cell_type": "code",
   "execution_count": null,
   "id": "fe1cda3e-4ff6-4a9a-8ede-ca7a74e0f4d4",
   "metadata": {},
   "outputs": [],
   "source": [
    "\n",
    "driver = webdriver.Chrome()\n",
    "driver.maximize_window()\n",
    "\n",
    "driver.implicitly_wait(10)\n",
    "\n",
    "url = \"https://www.google.com/\"\n",
    "driver.get(url)\n",
    "time.sleep(1)\n",
    "\n",
    "search_bar = driver.find_element(By.XPATH, '//*[@id=\"APjFqb\"]')\n",
    "\n",
    "search_bar.send_keys(\"machine learning\")\n",
    "time.sleep(1)\n",
    "\n",
    "search_bar.send_keys(Keys.ENTER)\n",
    "time.sleep(2)\n",
    "\n",
    "driver.quit()"
   ]
  }
 ],
 "metadata": {
  "kernelspec": {
   "display_name": "Python 3 (ipykernel)",
   "language": "python",
   "name": "python3"
  },
  "language_info": {
   "codemirror_mode": {
    "name": "ipython",
    "version": 3
   },
   "file_extension": ".py",
   "mimetype": "text/x-python",
   "name": "python",
   "nbconvert_exporter": "python",
   "pygments_lexer": "ipython3",
   "version": "3.13.3"
  }
 },
 "nbformat": 4,
 "nbformat_minor": 5
}
