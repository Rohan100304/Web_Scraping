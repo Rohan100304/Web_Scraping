{
 "cells": [
  {
   "cell_type": "code",
   "execution_count": 5,
   "id": "01b520fd-fe4c-4fbb-b914-e1f6808ffe0c",
   "metadata": {},
   "outputs": [],
   "source": [
    "import cv2\n",
    "import time\n",
    "import pytesseract\n",
    "\n",
    "import numpy as np\n",
    "\n",
    "from PIL import Image\n",
    "from selenium import webdriver\n",
    "from selenium.webdriver.common.by import By\n",
    "\n",
    "import logging\n",
    "logging.basicConfig(level=logging.INFO, format='%(asctime)s - %(levelname)s - %(message)s')"
   ]
  },
  {
   "cell_type": "markdown",
   "id": "2c2c2ab8-e302-4e7d-8f86-331a0ec73b23",
   "metadata": {},
   "source": [
    "# Using Input Method"
   ]
  },
  {
   "cell_type": "code",
   "execution_count": 25,
   "id": "d383fd46-bd13-4bbb-9bbb-6aa66a3681f4",
   "metadata": {},
   "outputs": [
    {
     "name": "stdin",
     "output_type": "stream",
     "text": [
      "This will halt the script.. solve your Captcha.. and Enter \"DONE\n",
      " done\n"
     ]
    },
    {
     "name": "stdout",
     "output_type": "stream",
     "text": [
      "---------------------\n",
      "Captcha handled! Exceuting rest of the script..\n"
     ]
    }
   ],
   "source": [
    "driver = webdriver.Chrome()\n",
    "driver.maximize_window()\n",
    "\n",
    "url = 'https://www.hackthissite.org/user/login'\n",
    "driver.get(url)\n",
    "time.sleep(2)\n",
    "\n",
    "username_field = driver.find_element(By.ID, 'login_username')\n",
    "password_field = driver.find_element(By.ID, 'login_password')\n",
    "login_button = driver.find_element(By.XPATH, '/html/body/table/tbody/tr[2]/td/table/tbody/tr/td[2]/form/table/tbody/tr[4]/td/input')\n",
    "\n",
    "username_field.send_keys('abc')\n",
    "password_field.send_keys('1234')\n",
    "login_button.click()\n",
    "\n",
    "captcha_xpath = '/html/body/table/tbody/tr[2]/td/table/tbody/tr/td[2]/form/table/tbody/tr[5]/td/img'\n",
    "captcha_element = driver.find_element(By.XPATH, captcha_xpath)\n",
    "\n",
    "if captcha_element:\n",
    "    x = input('This will halt the script.. solve your Captcha.. and Enter \"DONE\\n')\n",
    "    print('---------------------\\nCaptcha handled! Exceuting rest of the script..')\n",
    "\n",
    "    username_field = driver.find_element(By.ID, 'login_username')\n",
    "    password_field = driver.find_element(By.ID, 'login_password')\n",
    "    captcha_field = driver.find_element(By.XPATH, '/html[1]/body[1]/table[1]/tbody[1]/tr[2]/td[1]/table[1]/tbody[1]/tr[1]/td[2]/form[1]/table[1]/tbody[1]/tr[4]/td[2]/input[1]')\n",
    "    login_button = driver.find_element(By.XPATH, '/html/body/table/tbody/tr[2]/td/table/tbody/tr/td[2]/form/table/tbody/tr[6]/td/input')\n",
    "\n",
    "    username_field.clear()\n",
    "    password_field.clear()\n",
    "    captcha_field.clear()\n",
    "\n",
    "    username_field.send_keys('abc')\n",
    "    time.sleep(2)\n",
    "    password_field.send_keys('1234')\n",
    "    time.sleep(2)\n",
    "    captcha_field.send_keys(captcha_text)\n",
    "    time.sleep(2)\n",
    "    login_button.click()\n",
    "\n",
    "\n",
    "time.sleep(1)\n",
    "# driver.quit()\n"
   ]
  },
  {
   "cell_type": "code",
   "execution_count": null,
   "id": "a16c103a-b4b6-4062-a475-8ba9f682ae87",
   "metadata": {},
   "outputs": [],
   "source": []
  },
  {
   "cell_type": "markdown",
   "id": "2099647a-71b8-42bf-8bf5-b38e884fc0e6",
   "metadata": {},
   "source": [
    "#  Using OpenCV, PIL, pytesseract and Numpy\n"
   ]
  },
  {
   "cell_type": "code",
   "execution_count": 6,
   "id": "b089ce52-7aa9-4374-9d40-d9a19bd6dc4b",
   "metadata": {},
   "outputs": [],
   "source": [
    "pytesseract.pytesseract.tesseract_cmd = r\"C:\\Program Files\\Tesseract-OCR\\tesseract.exe\"\n"
   ]
  },
  {
   "cell_type": "code",
   "execution_count": 8,
   "id": "c595c50a-5566-4e14-bb83-4c7cc4ac283a",
   "metadata": {},
   "outputs": [
    {
     "name": "stdout",
     "output_type": "stream",
     "text": [
      "Detected captcha text: N Qui # SARE\n"
     ]
    }
   ],
   "source": [
    "driver = webdriver.Chrome()\n",
    "driver.maximize_window()\n",
    "\n",
    "url = 'https://www.hackthissite.org/user/login'\n",
    "driver.get(url)\n",
    "time.sleep(2)\n",
    "\n",
    "username_field = driver.find_element(By.ID, 'login_username')\n",
    "password_field = driver.find_element(By.ID, 'login_password')\n",
    "login_button = driver.find_element(By.XPATH, '/html/body/table/tbody/tr[2]/td/table/tbody/tr/td[2]/form/table/tbody/tr[4]/td/input')\n",
    "\n",
    "username_field.send_keys('abc')\n",
    "password_field.send_keys('1234')\n",
    "login_button.click()\n",
    "time.sleep(5)\n",
    "\n",
    "try:\n",
    "    captcha_xpath = '/html/body/table/tbody/tr[2]/td/table/tbody/tr/td[2]/form/table/tbody/tr[5]/td/img'\n",
    "    captcha_image = driver.find_element(By.XPATH, captcha_xpath)\n",
    "    driver.save_screenshot('webpage.png')\n",
    "\n",
    "    location = captcha_image.location\n",
    "    size = captcha_image.size\n",
    "    device_pixel_ratio = driver.execute_script(\"return window.devicePixelRatio;\")\n",
    "    x = int(location['x'] * device_pixel_ratio)\n",
    "    y = int(location['y'] * device_pixel_ratio)\n",
    "    w = int(size['width'] * device_pixel_ratio)\n",
    "    h = int(size['height'] * device_pixel_ratio)\n",
    "\n",
    "    img = Image.open('webpage.png')\n",
    "    captcha_image = img.crop((x, y, x + w, y + h))\n",
    "    captcha_image.save('captcha.png')\n",
    "\n",
    "    captcha_cv = np.array(captcha_image)\n",
    "    captcha_cv = cv2.cvtColor(captcha_cv, cv2.COLOR_RGB2BGR)\n",
    "    gray = cv2.cvtColor(captcha_cv, cv2.COLOR_BGR2GRAY)\n",
    "    blurred = cv2.medianBlur(gray, 3)\n",
    "    _, thresh = cv2.threshold(blurred, 0, 255, cv2.THRESH_BINARY + cv2.THRESH_OTSU)\n",
    "    kernel = np.ones((2, 2), np.uint8)\n",
    "    thresh = cv2.dilate(thresh, kernel, iterations=1)\n",
    "    cv2.imwrite('captcha-processed.png', thresh)\n",
    "\n",
    "    captcha_text = pytesseract.image_to_string(Image.fromarray(thresh), config='--psm 8').strip()\n",
    "    print(f'Detected captcha text: {captcha_text}')\n",
    "\n",
    "    if captcha_text:\n",
    "        username_field = driver.find_element(By.ID, 'login_username')\n",
    "        password_field = driver.find_element(By.ID, 'login_password')\n",
    "        captcha_field = driver.find_element(By.XPATH, '/html[1]/body[1]/table[1]/tbody[1]/tr[2]/td[1]/table[1]/tbody[1]/tr[1]/td[2]/form[1]/table[1]/tbody[1]/tr[4]/td[2]/input[1]')\n",
    "        login_button = driver.find_element(By.XPATH, '/html/body/table/tbody/tr[2]/td/table/tbody/tr/td[2]/form/table/tbody/tr[4]/td/input')\n",
    "\n",
    "        username_field.clear()\n",
    "        password_field.clear()\n",
    "        captcha_field.clear()\n",
    "\n",
    "        username_field.send_keys('abc')\n",
    "        password_field.send_keys('1234')\n",
    "        captcha_field.send_keys(captcha_text)\n",
    "        login_button.click()\n",
    "    else:\n",
    "        print('Unable to read Captcha.')\n",
    "\t\t\n",
    "except Exception as e:\n",
    "    print('Unable to locate Captcha:', e)\n",
    "\t\n",
    "finally:\n",
    "    time.sleep(2)\n",
    "    # driver.quit()"
   ]
  },
  {
   "cell_type": "code",
   "execution_count": null,
   "id": "5338d910-adb2-490d-8600-20bc8fc6fe3e",
   "metadata": {},
   "outputs": [],
   "source": []
  }
 ],
 "metadata": {
  "kernelspec": {
   "display_name": "Python 3 (ipykernel)",
   "language": "python",
   "name": "python3"
  },
  "language_info": {
   "codemirror_mode": {
    "name": "ipython",
    "version": 3
   },
   "file_extension": ".py",
   "mimetype": "text/x-python",
   "name": "python",
   "nbconvert_exporter": "python",
   "pygments_lexer": "ipython3",
   "version": "3.13.5"
  }
 },
 "nbformat": 4,
 "nbformat_minor": 5
}
