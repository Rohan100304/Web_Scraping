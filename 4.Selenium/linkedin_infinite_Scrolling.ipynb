{
 "cells": [
  {
   "cell_type": "code",
   "execution_count": 4,
   "id": "d7400d90-e502-445b-8ab2-e08ac81051d8",
   "metadata": {},
   "outputs": [],
   "source": [
    "import time\n",
    "from selenium import webdriver\n",
    "from selenium.webdriver.common.by import By\n",
    "from selenium.webdriver.support.select import Select \n",
    "from selenium.webdriver.common.keys import Keys"
   ]
  },
  {
   "cell_type": "code",
   "execution_count": 11,
   "id": "99e3a0e5-3057-46dd-a15f-adc641c6e902",
   "metadata": {},
   "outputs": [
    {
     "name": "stdout",
     "output_type": "stream",
     "text": [
      "The Height of webpage is: 2731\n",
      "The Height of webpage is: 7757\n",
      "The Height of webpage is: 12230\n",
      "The Height of webpage is: 15392\n",
      "The Height of webpage is: 15894\n"
     ]
    }
   ],
   "source": [
    "driver = webdriver.Chrome()\n",
    "driver.maximize_window()\n",
    "\n",
    "##To open the url in windows\n",
    "url = 'https://www.linkedin.com/'\n",
    "driver.get(url)\n",
    "\n",
    "time.sleep(5)\n",
    "\n",
    "## To click the link\n",
    "link_click = driver.find_element(By.XPATH,'//*[@id=\"main-content\"]/section[1]/div/div/a')\n",
    "link_click.click()\n",
    "\n",
    "### To enter login field\n",
    "time.sleep(3)\n",
    "login_field = driver.find_element(By.XPATH,'//*[@id=\"username\"]')\n",
    "email= 'triggerop2004@gmail.com'\n",
    "login_field.send_keys(email)\n",
    "\n",
    "time.sleep(1)\n",
    "password_field=driver.find_element(By.XPATH,'//*[@id=\"password\"]')\n",
    "password= 'rohan'\n",
    "password_field.send_keys(password)\n",
    "\n",
    "## To signin\n",
    "signin_field = driver.find_element(By.XPATH,'//*[@id=\"organic-div\"]/form/div[4]/button')\n",
    "signin_field.click()\n",
    "time.sleep(2)\n",
    "\n",
    "height = driver.execute_script('return document.body.scrollHeight')\n",
    "while True:\n",
    "    print(f'The Height of webpage is: {height}')\n",
    "    driver.execute_script(\"window.scrollTo(0, document.body.scrollHeight)\")\n",
    "    time.sleep(3)\n",
    "    \n",
    "    new_height = driver.execute_script('return document.body.scrollHeight')\n",
    "    \n",
    "    if height==new_height:\n",
    "        break\n",
    "    height = new_height\n",
    "\n"
   ]
  },
  {
   "cell_type": "code",
   "execution_count": null,
   "id": "dc03a008-ddbe-4806-89af-57cc6532ac51",
   "metadata": {},
   "outputs": [],
   "source": []
  }
 ],
 "metadata": {
  "kernelspec": {
   "display_name": "Python 3 (ipykernel)",
   "language": "python",
   "name": "python3"
  },
  "language_info": {
   "codemirror_mode": {
    "name": "ipython",
    "version": 3
   },
   "file_extension": ".py",
   "mimetype": "text/x-python",
   "name": "python",
   "nbconvert_exporter": "python",
   "pygments_lexer": "ipython3",
   "version": "3.13.5"
  }
 },
 "nbformat": 4,
 "nbformat_minor": 5
}
