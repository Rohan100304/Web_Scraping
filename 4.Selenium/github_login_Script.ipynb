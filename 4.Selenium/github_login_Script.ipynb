{
 "cells": [
  {
   "cell_type": "code",
   "execution_count": 5,
   "id": "42b16dc3-b8ee-4b19-a76e-1a281a06a62b",
   "metadata": {},
   "outputs": [],
   "source": [
    "import time\n",
    "from selenium import webdriver\n",
    "from selenium.webdriver.common.by import By"
   ]
  },
  {
   "cell_type": "code",
   "execution_count": 6,
   "id": "c8e67df4-b982-4c4f-a04c-3dbb44d84057",
   "metadata": {},
   "outputs": [],
   "source": [
    "\n",
    "driver = webdriver.Chrome()\n",
    "driver.maximize_window()\n",
    "\n",
    "url = 'https://github.com/login'\n",
    "driver.get(url)\n",
    "time.sleep(2)\n",
    "\n",
    "# username field\n",
    "username_field = driver.find_element(By.ID, 'login_field')\n",
    "username_field.send_keys('rohan')\n",
    "time.sleep(1)\n",
    "\n",
    "# password field\n",
    "password_field = driver.find_element(By.ID, 'password')\n",
    "password_field.send_keys('pass123')\n",
    "time.sleep(1)\n",
    "\n",
    "# submit button\n",
    "submit_button = driver.find_element(By.XPATH, '//*[@id=\"login\"]/div[4]/form/div/input[13]')\n",
    "submit_button.click()\n",
    "time.sleep(2)\n",
    "\n",
    "driver.quit()"
   ]
  },
  {
   "cell_type": "code",
   "execution_count": null,
   "id": "1b560f03-f17a-4c5d-8fc4-17cb4b28344a",
   "metadata": {},
   "outputs": [],
   "source": []
  }
 ],
 "metadata": {
  "kernelspec": {
   "display_name": "Python 3 (ipykernel)",
   "language": "python",
   "name": "python3"
  },
  "language_info": {
   "codemirror_mode": {
    "name": "ipython",
    "version": 3
   },
   "file_extension": ".py",
   "mimetype": "text/x-python",
   "name": "python",
   "nbconvert_exporter": "python",
   "pygments_lexer": "ipython3",
   "version": "3.13.5"
  }
 },
 "nbformat": 4,
 "nbformat_minor": 5
}
