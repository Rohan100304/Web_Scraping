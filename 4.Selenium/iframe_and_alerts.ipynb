{
 "cells": [
  {
   "cell_type": "code",
   "execution_count": 1,
   "id": "07a15c3f-032a-49fb-94e1-96bac5788163",
   "metadata": {},
   "outputs": [],
   "source": [
    "import time\n",
    "from selenium import webdriver\n",
    "from selenium.webdriver.common.by import By"
   ]
  },
  {
   "cell_type": "code",
   "execution_count": 7,
   "id": "b41ad118-e5c5-4ec4-8bc3-dc63f42a382f",
   "metadata": {},
   "outputs": [
    {
     "name": "stdout",
     "output_type": "stream",
     "text": [
      "Switched to iframe\n",
      "button clicked\n",
      "successfull\n"
     ]
    }
   ],
   "source": [
    "driver = webdriver.Chrome()\n",
    "\n",
    "driver.get('https://www.w3schools.com/js/tryit.asp?filename=tryjs_alert')\n",
    "\n",
    "time.sleep(2)\n",
    "\n",
    "iframe = driver.find_element(By.ID,\"iframeResult\")\n",
    "driver.switch_to.frame(iframe)\n",
    "print('Switched to iframe')\n",
    "\n",
    "buttom = driver.find_element(By.XPATH,'/html/body/button')\n",
    "buttom.click()\n",
    "\n",
    "print('\\nbutton clicked\\n')\n",
    "print('\\nsuccessfull\\n')\n",
    "\n"
   ]
  },
  {
   "cell_type": "code",
   "execution_count": null,
   "id": "6b58d958-c60e-4158-b87b-89161154bc04",
   "metadata": {},
   "outputs": [],
   "source": []
  },
  {
   "cell_type": "markdown",
   "id": "943fa4b7-adb1-40f2-bc60-55eb95b9f30d",
   "metadata": {},
   "source": [
    "#\n",
    "## confirming Alert\n"
   ]
  },
  {
   "cell_type": "code",
   "execution_count": 10,
   "id": "42f66baa-6bee-4e7d-902c-83c2d940ba80",
   "metadata": {},
   "outputs": [
    {
     "name": "stdout",
     "output_type": "stream",
     "text": [
      "Switched to iframe\n",
      "\n",
      "button clicked\n",
      "-----------------------\n",
      "The alert Text is: Press a button!\n",
      "-------------------------\n",
      "Accepted!!\n",
      "-------------------------\n",
      "Switched Back\n",
      "------------------------------------------\n",
      "\n",
      "successfull!!\n",
      "\n"
     ]
    }
   ],
   "source": [
    "driver = webdriver.Chrome()\n",
    "\n",
    "driver.get('https://www.w3schools.com/js/tryit.asp?filename=tryjs_confirm')\n",
    "\n",
    "time.sleep(2)\n",
    "\n",
    "iframe = driver.find_element(By.ID,\"iframeResult\")\n",
    "driver.switch_to.frame(iframe)\n",
    "print('Switched to iframe')\n",
    "\n",
    "buttom = driver.find_element(By.XPATH,'/html/body/button')\n",
    "buttom.click()\n",
    "print('\\nbutton clicked\\n-----------------------')\n",
    "\n",
    "print(f'The alert Text is: {driver.switch_to.alert.text}\\n-------------------------')\n",
    "\n",
    "driver.switch_to.alert.accept()\n",
    "\n",
    "print('Accepted!!\\n-------------------------')\n",
    "    \n",
    "driver.switch_to.default_content()\n",
    "print('Switched Back\\n------------------------------------------')\n",
    "\n",
    "print('\\nsuccessfull!!\\n')\n",
    "\n"
   ]
  },
  {
   "cell_type": "markdown",
   "id": "9bb941dc-37be-4084-8c51-cd0d7edcf88c",
   "metadata": {},
   "source": [
    "#\n",
    "## Promt alert"
   ]
  },
  {
   "cell_type": "code",
   "execution_count": 13,
   "id": "c636a81a-1c3d-40a4-a8cb-938928bc06da",
   "metadata": {},
   "outputs": [
    {
     "name": "stdout",
     "output_type": "stream",
     "text": [
      "Switched to iframe\n",
      "\n",
      "button clicked\n",
      "-----------------------\n",
      "The alert Text is: Please enter your name:\n",
      "-------------------------\n",
      "\n",
      "Prompt sent\n",
      "----------------------\n",
      "Accepted!!\n",
      "-------------------------\n",
      "Switched Back\n",
      "------------------------------------------\n",
      "\n",
      "successfull!!\n",
      "\n"
     ]
    }
   ],
   "source": [
    "driver = webdriver.Chrome()\n",
    "\n",
    "driver.get('https://www.w3schools.com/js/tryit.asp?filename=tryjs_prompt')\n",
    "\n",
    "time.sleep(2)\n",
    "\n",
    "iframe = driver.find_element(By.ID,\"iframeResult\")\n",
    "driver.switch_to.frame(iframe)\n",
    "print('Switched to iframe')\n",
    "\n",
    "buttom = driver.find_element(By.XPATH,'/html/body/button')\n",
    "buttom.click()\n",
    "print('\\nbutton clicked\\n-----------------------')\n",
    "\n",
    "print(f'The alert Text is: {driver.switch_to.alert.text}\\n-------------------------')\n",
    "\n",
    "driver.switch_to.alert.send_keys('Rohan')\n",
    "\n",
    "print('\\nPrompt sent\\n----------------------')\n",
    "driver.switch_to.alert.accept()\n",
    "\n",
    "print('Accepted!!\\n-------------------------')\n",
    "    \n",
    "driver.switch_to.default_content()\n",
    "print('Switched Back\\n------------------------------------------')\n",
    "\n",
    "print('\\nsuccessfull!!\\n')\n",
    "\n"
   ]
  },
  {
   "cell_type": "code",
   "execution_count": 14,
   "id": "38bf135f-60a5-405e-ac3c-d5481623819f",
   "metadata": {},
   "outputs": [
    {
     "name": "stdout",
     "output_type": "stream",
     "text": [
      "Switched to iframe\n",
      "\n",
      "button clicked\n",
      "-----------------------\n",
      "The alert Text is: Please enter your name:\n",
      "-------------------------\n",
      "\n",
      "Prompt sent\n",
      "----------------------\n",
      "Accepted!!\n",
      "-------------------------\n",
      "Switched Back\n",
      "------------------------------------------\n",
      "\n",
      "successfull!!\n",
      "\n"
     ]
    }
   ],
   "source": [
    "driver = webdriver.Chrome()\n",
    "\n",
    "driver.get('https://www.w3schools.com/js/tryit.asp?filename=tryjs_prompt')\n",
    "\n",
    "time.sleep(2)\n",
    "\n",
    "iframe = driver.find_element(By.ID,\"iframeResult\")\n",
    "driver.switch_to.frame(iframe)\n",
    "print('Switched to iframe')\n",
    "\n",
    "buttom = driver.find_element(By.XPATH,'/html/body/button')\n",
    "buttom.click()\n",
    "print('\\nbutton clicked\\n-----------------------')\n",
    "\n",
    "print(f'The alert Text is: {driver.switch_to.alert.text}\\n-------------------------')\n",
    "\n",
    "driver.switch_to.alert.send_keys('Rohan')\n",
    "\n",
    "print('\\nPrompt sent\\n----------------------')\n",
    "driver.switch_to.alert.dismiss()\n",
    "\n",
    "print('Accepted!!\\n-------------------------')\n",
    "    \n",
    "driver.switch_to.default_content()\n",
    "print('Switched Back\\n------------------------------------------')\n",
    "\n",
    "print('\\nsuccessfull!!\\n')\n",
    "\n"
   ]
  },
  {
   "cell_type": "code",
   "execution_count": null,
   "id": "49021f83-0895-47d6-89b2-c7c621cffaab",
   "metadata": {},
   "outputs": [],
   "source": []
  }
 ],
 "metadata": {
  "kernelspec": {
   "display_name": "Python 3 (ipykernel)",
   "language": "python",
   "name": "python3"
  },
  "language_info": {
   "codemirror_mode": {
    "name": "ipython",
    "version": 3
   },
   "file_extension": ".py",
   "mimetype": "text/x-python",
   "name": "python",
   "nbconvert_exporter": "python",
   "pygments_lexer": "ipython3",
   "version": "3.13.3"
  }
 },
 "nbformat": 4,
 "nbformat_minor": 5
}
