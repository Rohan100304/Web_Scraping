{
 "cells": [
  {
   "cell_type": "markdown",
   "id": "598f6c8a-4b4e-484b-b77c-fea9bb811bab",
   "metadata": {},
   "source": [
    "## 1. Imports"
   ]
  },
  {
   "cell_type": "code",
   "execution_count": 1,
   "id": "e2e6d523-6a61-414e-ac6a-93fd52c40709",
   "metadata": {},
   "outputs": [],
   "source": [
    "import requests"
   ]
  },
  {
   "cell_type": "markdown",
   "id": "69e87acf-f0f4-4800-ac75-b9f864070a4e",
   "metadata": {},
   "source": [
    "## 2. Version"
   ]
  },
  {
   "cell_type": "code",
   "execution_count": 2,
   "id": "291db94d-4152-41bf-9248-01ef8608fa78",
   "metadata": {},
   "outputs": [
    {
     "name": "stdout",
     "output_type": "stream",
     "text": [
      "2.31.0\n"
     ]
    }
   ],
   "source": [
    "print(requests.__version__)"
   ]
  },
  {
   "cell_type": "markdown",
   "id": "ca388c2c-e39f-488c-b33a-497f0293e8ef",
   "metadata": {},
   "source": [
    "## 3. GET"
   ]
  },
  {
   "cell_type": "markdown",
   "id": "45180677-0a50-4db0-bd6c-1b3d493ffc9a",
   "metadata": {},
   "source": [
    "### 3.1\n",
    "\n",
    "- send a request to GitHub API and printing the response\n",
    "- print the status code and the contents\n",
    "- GitHub API: `https://api.github.com`"
   ]
  },
  {
   "cell_type": "code",
   "execution_count": 3,
   "id": "97d0772c-4a71-4560-ac76-4f4603289d74",
   "metadata": {},
   "outputs": [],
   "source": [
    "uri = \"https://api.github.com\"\n",
    "response = requests.get(uri)"
   ]
  },
  {
   "cell_type": "code",
   "execution_count": 4,
   "id": "8290bd3b-f104-4637-80d3-8193a0371ced",
   "metadata": {},
   "outputs": [
    {
     "data": {
      "text/plain": [
       "<Response [200]>"
      ]
     },
     "execution_count": 4,
     "metadata": {},
     "output_type": "execute_result"
    }
   ],
   "source": [
    "response"
   ]
  },
  {
   "cell_type": "code",
   "execution_count": 5,
   "id": "2c91836b-0f72-43e1-9e21-edfc2a2f2477",
   "metadata": {},
   "outputs": [
    {
     "data": {
      "text/plain": [
       "200"
      ]
     },
     "execution_count": 5,
     "metadata": {},
     "output_type": "execute_result"
    }
   ],
   "source": [
    "response.status_code"
   ]
  },
  {
   "cell_type": "code",
   "execution_count": 6,
   "id": "ccbead4f-3687-4994-891d-7a2fb6316a43",
   "metadata": {},
   "outputs": [
    {
     "data": {
      "text/plain": [
       "b'{\"current_user_url\":\"https://api.github.com/user\",\"current_user_authorizations_html_url\":\"https://github.com/settings/connections/applications{/client_id}\",\"authorizations_url\":\"https://api.github.com/authorizations\",\"code_search_url\":\"https://api.github.com/search/code?q={query}{&page,per_page,sort,order}\",\"commit_search_url\":\"https://api.github.com/search/commits?q={query}{&page,per_page,sort,order}\",\"emails_url\":\"https://api.github.com/user/emails\",\"emojis_url\":\"https://api.github.com/emojis\",\"events_url\":\"https://api.github.com/events\",\"feeds_url\":\"https://api.github.com/feeds\",\"followers_url\":\"https://api.github.com/user/followers\",\"following_url\":\"https://api.github.com/user/following{/target}\",\"gists_url\":\"https://api.github.com/gists{/gist_id}\",\"hub_url\":\"https://api.github.com/hub\",\"issue_search_url\":\"https://api.github.com/search/issues?q={query}{&page,per_page,sort,order}\",\"issues_url\":\"https://api.github.com/issues\",\"keys_url\":\"https://api.github.com/user/keys\",\"label_searc'"
      ]
     },
     "execution_count": 6,
     "metadata": {},
     "output_type": "execute_result"
    }
   ],
   "source": [
    "response.content[:1000]"
   ]
  },
  {
   "cell_type": "markdown",
   "id": "87caff0e-803f-45a9-b51b-85af481ff8b4",
   "metadata": {},
   "source": [
    "### 3.2\n",
    "\n",
    "- use query parameters in a GET message\n",
    "- search for all GitHub repositories that contain the word `requests` and the main language used is `python`\n",
    "- GitHub repository search API: `https://api.github.com/search/repositories`"
   ]
  },
  {
   "cell_type": "code",
   "execution_count": 7,
   "id": "789d0d9f-31f7-4502-b1be-e1ddc79d9a64",
   "metadata": {},
   "outputs": [],
   "source": [
    "uri = \"https://api.github.com/search/repositories\""
   ]
  },
  {
   "cell_type": "code",
   "execution_count": 8,
   "id": "ced36ab1-476c-455a-9a33-716e6172d2d7",
   "metadata": {},
   "outputs": [],
   "source": [
    "params = {\"q\": \"requests+language:python\"}"
   ]
  },
  {
   "cell_type": "code",
   "execution_count": 9,
   "id": "9b719cbb-4f56-48a2-a55e-419e0e4424e3",
   "metadata": {},
   "outputs": [],
   "source": [
    "response = requests.get(uri, params=params)"
   ]
  },
  {
   "cell_type": "code",
   "execution_count": 10,
   "id": "68599b99-12bc-458c-86ab-add688e697fb",
   "metadata": {},
   "outputs": [
    {
     "data": {
      "text/plain": [
       "200"
      ]
     },
     "execution_count": 10,
     "metadata": {},
     "output_type": "execute_result"
    }
   ],
   "source": [
    "response.status_code"
   ]
  },
  {
   "cell_type": "code",
   "execution_count": 11,
   "id": "aaf7d1a5-99d3-4d8b-93f8-39d8927116b5",
   "metadata": {},
   "outputs": [
    {
     "data": {
      "text/plain": [
       "b'{\"total_count\":223,\"incomplete_results\":false,\"items\":[{\"id\":33210074,\"node_id\":\"MDEwOlJlcG9zaXRvcnkzMzIxMDA3NA==\",\"name\":\"secrules-language-evaluation\",\"full_name\":\"SpiderLabs/secrules-language-evaluation\",\"private\":false,\"owner\":{\"login\":\"SpiderLabs\",\"id\":508521,\"node_id\":\"MDEyOk9yZ2FuaXphdGlvbjUwODUyMQ==\",\"avatar_url\":\"https://avatars.githubusercontent.com/u/508521?v=4\",\"gravatar_id\":\"\",\"url\":\"https://api.github.com/users/SpiderLabs\",\"html_url\":\"https://github.com/SpiderLabs\",\"followers_url\":\"https://api.github.com/users/SpiderLabs/followers\",\"following_url\":\"https://api.github.com/users/SpiderLabs/following{/other_user}\",\"gists_url\":\"https://api.github.com/users/SpiderLabs/gists{/gist_id}\",\"starred_url\":\"https://api.github.com/users/SpiderLabs/starred{/owner}{/repo}\",\"subscriptions_url\":\"https://api.github.com/users/SpiderLabs/subscriptions\",\"organizations_url\":\"https://api.github.com/users/SpiderLabs/orgs\",\"repos_url\":\"https://api.github.com/users/SpiderLabs/repos\",\"events_url\":\"https://api.github.com/users/SpiderLabs/events{/privacy}\",\"received_events_url\":\"https://api.github.com/users/SpiderLabs/received_events\",\"type\":\"Organization\",\"user_view_type\":\"public\",\"site_admin\":false},\"html_url\":\"https://github.com/SpiderLabs/secrules-language-evaluation\",\"description\":\"Set of Python scripts to perform SecRules language evaluation on a given http request.\",\"fork\":false,\"url\":\"https://api.github.com/repos/SpiderLabs/secrules-language-evaluation\",\"forks_url\":\"https://api.github.com/repos/SpiderLabs/secrules-language-evaluation/forks\",\"keys_url\":\"https://api.github.com/repos/SpiderLabs/secrules-language-evaluation/keys{/key_id}\",\"collaborators_url\":\"https://api.github.com/repos/SpiderLabs/secrules-language-evaluation/collaborators{/collaborator}\",\"teams_url\":\"https://api.github.com/repos/SpiderLabs/secrules-language-evaluation/teams\",\"hooks_url\":\"https://api.github.com/repos/SpiderLabs/secrules-language-evaluation/hooks\",\"issue_events_url\":\"https://api.github.com/repo'"
      ]
     },
     "execution_count": 11,
     "metadata": {},
     "output_type": "execute_result"
    }
   ],
   "source": [
    "response.content[:2000]"
   ]
  },
  {
   "cell_type": "markdown",
   "id": "4e8df9fd-14b0-402a-b082-40442c26f1aa",
   "metadata": {},
   "source": [
    "## 4. POST"
   ]
  },
  {
   "cell_type": "code",
   "execution_count": 12,
   "id": "e82d8a2e-c3be-4472-a12b-cdeb40fb855c",
   "metadata": {},
   "outputs": [],
   "source": [
    "def get_data_format(rcvd_response):\n",
    "\tjson_response = rcvd_response.json()\n",
    "\tdata_format = json_response['headers']['Content-Type'].split(\"/\")[-1]\n",
    "\tprint(f\"Response data format: {data_format}\")"
   ]
  },
  {
   "cell_type": "markdown",
   "id": "645baf63-4f24-4f54-96b4-4825c4cab748",
   "metadata": {},
   "source": [
    "### 4.1\n",
    "\n",
    "- send some data to a test server\n",
    "- server address: `https://httpbin.org/post`"
   ]
  },
  {
   "cell_type": "code",
   "execution_count": 13,
   "id": "bb59a127-3ab1-449d-afd2-1f9ab5b1d6b7",
   "metadata": {},
   "outputs": [],
   "source": [
    "uri = \"https://httpbin.org/post\""
   ]
  },
  {
   "cell_type": "code",
   "execution_count": 14,
   "id": "46db1e3f-55fa-4420-8fc6-8012ae7b6dd6",
   "metadata": {},
   "outputs": [],
   "source": [
    "data = {\n",
    "\t\"username\": \"bruce\",\n",
    "\t\"password\": \"bruce123\"\n",
    "}"
   ]
  },
  {
   "cell_type": "code",
   "execution_count": 15,
   "id": "1e4cff87-10ad-40bf-aaab-8e7e217912b1",
   "metadata": {},
   "outputs": [],
   "source": [
    "response = requests.post(uri, data=data)"
   ]
  },
  {
   "cell_type": "code",
   "execution_count": 16,
   "id": "4a0c5820-ce7d-42a4-a481-b6a50ddb64c2",
   "metadata": {},
   "outputs": [
    {
     "data": {
      "text/plain": [
       "200"
      ]
     },
     "execution_count": 16,
     "metadata": {},
     "output_type": "execute_result"
    }
   ],
   "source": [
    "response.status_code"
   ]
  },
  {
   "cell_type": "code",
   "execution_count": 17,
   "id": "3d81d6c3-8039-4f63-83b0-a98c45ca7cb0",
   "metadata": {},
   "outputs": [
    {
     "data": {
      "text/plain": [
       "{'args': {},\n",
       " 'data': '',\n",
       " 'files': {},\n",
       " 'form': {'password': 'bruce123', 'username': 'bruce'},\n",
       " 'headers': {'Accept': '*/*',\n",
       "  'Accept-Encoding': 'gzip, deflate',\n",
       "  'Content-Length': '32',\n",
       "  'Content-Type': 'application/x-www-form-urlencoded',\n",
       "  'Host': 'httpbin.org',\n",
       "  'User-Agent': 'python-requests/2.31.0',\n",
       "  'X-Amzn-Trace-Id': 'Root=1-674601c4-44250efd5cc977a751f5a109'},\n",
       " 'json': None,\n",
       " 'origin': '122.164.82.253',\n",
       " 'url': 'https://httpbin.org/post'}"
      ]
     },
     "execution_count": 17,
     "metadata": {},
     "output_type": "execute_result"
    }
   ],
   "source": [
    "response.json()"
   ]
  },
  {
   "cell_type": "code",
   "execution_count": 18,
   "id": "a9ece883-c3ca-4d11-8b2d-d5d1342733d2",
   "metadata": {},
   "outputs": [
    {
     "data": {
      "text/plain": [
       "'x-www-form-urlencoded'"
      ]
     },
     "execution_count": 18,
     "metadata": {},
     "output_type": "execute_result"
    }
   ],
   "source": [
    "response.json()['headers']['Content-Type'].split(\"/\")[-1]"
   ]
  },
  {
   "cell_type": "code",
   "execution_count": 19,
   "id": "6fe60e3e-77e8-40bc-a5fa-68959fc87188",
   "metadata": {},
   "outputs": [
    {
     "name": "stdout",
     "output_type": "stream",
     "text": [
      "Response data format: x-www-form-urlencoded\n"
     ]
    }
   ],
   "source": [
    "get_data_format(response)"
   ]
  },
  {
   "cell_type": "markdown",
   "id": "f252ac8f-202f-4bdf-9d15-9ef296b42ce7",
   "metadata": {},
   "source": [
    "### 4.2\n",
    "\n",
    "- APIs usually expect data in JSON format\n",
    "- send data in JSON format using POST message"
   ]
  },
  {
   "cell_type": "code",
   "execution_count": 20,
   "id": "6675b0e1-27fe-4d2c-b151-4c0c4576f847",
   "metadata": {},
   "outputs": [
    {
     "data": {
      "text/plain": [
       "'https://httpbin.org/post'"
      ]
     },
     "execution_count": 20,
     "metadata": {},
     "output_type": "execute_result"
    }
   ],
   "source": [
    "uri"
   ]
  },
  {
   "cell_type": "code",
   "execution_count": 21,
   "id": "81cd9e85-5c78-4d01-bed4-3fc062c57e5b",
   "metadata": {},
   "outputs": [
    {
     "data": {
      "text/plain": [
       "{'username': 'bruce', 'password': 'bruce123'}"
      ]
     },
     "execution_count": 21,
     "metadata": {},
     "output_type": "execute_result"
    }
   ],
   "source": [
    "data"
   ]
  },
  {
   "cell_type": "code",
   "execution_count": 22,
   "id": "eb491008-693e-4cfc-8b9d-bfd61824c3b0",
   "metadata": {},
   "outputs": [],
   "source": [
    "response2 = requests.post(uri, json=data)"
   ]
  },
  {
   "cell_type": "code",
   "execution_count": 23,
   "id": "1fb2070c-1083-43e8-b208-970470506d2c",
   "metadata": {},
   "outputs": [
    {
     "data": {
      "text/plain": [
       "200"
      ]
     },
     "execution_count": 23,
     "metadata": {},
     "output_type": "execute_result"
    }
   ],
   "source": [
    "response2.status_code"
   ]
  },
  {
   "cell_type": "code",
   "execution_count": 24,
   "id": "7104201d-15f9-4216-bf03-2e5cec5946a9",
   "metadata": {},
   "outputs": [
    {
     "data": {
      "text/plain": [
       "{'args': {},\n",
       " 'data': '{\"username\": \"bruce\", \"password\": \"bruce123\"}',\n",
       " 'files': {},\n",
       " 'form': {},\n",
       " 'headers': {'Accept': '*/*',\n",
       "  'Accept-Encoding': 'gzip, deflate',\n",
       "  'Content-Length': '45',\n",
       "  'Content-Type': 'application/json',\n",
       "  'Host': 'httpbin.org',\n",
       "  'User-Agent': 'python-requests/2.31.0',\n",
       "  'X-Amzn-Trace-Id': 'Root=1-674601c6-2dbf3c7a72330aab1350d4ff'},\n",
       " 'json': {'password': 'bruce123', 'username': 'bruce'},\n",
       " 'origin': '122.164.82.253',\n",
       " 'url': 'https://httpbin.org/post'}"
      ]
     },
     "execution_count": 24,
     "metadata": {},
     "output_type": "execute_result"
    }
   ],
   "source": [
    "response2.json()"
   ]
  },
  {
   "cell_type": "code",
   "execution_count": 25,
   "id": "33ab68bb-c811-4a20-8dfd-5450b01e1364",
   "metadata": {},
   "outputs": [
    {
     "name": "stdout",
     "output_type": "stream",
     "text": [
      "Response data format: json\n"
     ]
    }
   ],
   "source": [
    "get_data_format(response2)"
   ]
  },
  {
   "cell_type": "markdown",
   "id": "d531f5be-1d56-430a-a3b4-859f72e6df1e",
   "metadata": {},
   "source": [
    "## 5. PUT"
   ]
  },
  {
   "cell_type": "markdown",
   "id": "059183f3-e36d-44cb-ae80-6d6e34c86ddf",
   "metadata": {},
   "source": [
    "### 5.1\n",
    "\n",
    "- use PUT method to update data\n",
    "- address: `https://httpbin.org/put`"
   ]
  },
  {
   "cell_type": "code",
   "execution_count": 26,
   "id": "3f20ae39-3d27-4a06-b590-e9b046ce96a3",
   "metadata": {},
   "outputs": [],
   "source": [
    "uri = \"https://httpbin.org/put\""
   ]
  },
  {
   "cell_type": "code",
   "execution_count": 27,
   "id": "bd89da44-d21e-4656-9b16-2c78583130a6",
   "metadata": {},
   "outputs": [],
   "source": [
    "data = {\n",
    "\t\"param1\": \"value1\"\n",
    "}"
   ]
  },
  {
   "cell_type": "code",
   "execution_count": 28,
   "id": "197f80df-5613-4825-814b-d7622a8a65b3",
   "metadata": {},
   "outputs": [],
   "source": [
    "response = requests.put(uri, data=data)"
   ]
  },
  {
   "cell_type": "code",
   "execution_count": 29,
   "id": "71f500f8-7854-46a8-82ca-47170dff9481",
   "metadata": {},
   "outputs": [
    {
     "data": {
      "text/plain": [
       "200"
      ]
     },
     "execution_count": 29,
     "metadata": {},
     "output_type": "execute_result"
    }
   ],
   "source": [
    "response.status_code"
   ]
  },
  {
   "cell_type": "code",
   "execution_count": 30,
   "id": "bb9964d0-2226-4a14-8603-4a212bd75fde",
   "metadata": {},
   "outputs": [
    {
     "data": {
      "text/plain": [
       "{'args': {},\n",
       " 'data': '',\n",
       " 'files': {},\n",
       " 'form': {'param1': 'value1'},\n",
       " 'headers': {'Accept': '*/*',\n",
       "  'Accept-Encoding': 'gzip, deflate',\n",
       "  'Content-Length': '13',\n",
       "  'Content-Type': 'application/x-www-form-urlencoded',\n",
       "  'Host': 'httpbin.org',\n",
       "  'User-Agent': 'python-requests/2.31.0',\n",
       "  'X-Amzn-Trace-Id': 'Root=1-674601c9-2a74aaa0460064c73f8ebd8a'},\n",
       " 'json': None,\n",
       " 'origin': '122.164.82.253',\n",
       " 'url': 'https://httpbin.org/put'}"
      ]
     },
     "execution_count": 30,
     "metadata": {},
     "output_type": "execute_result"
    }
   ],
   "source": [
    "response.json()"
   ]
  },
  {
   "cell_type": "markdown",
   "id": "d811c884-6483-4e27-a23f-40859f20f4f7",
   "metadata": {},
   "source": [
    "## 6. DELETE"
   ]
  },
  {
   "cell_type": "markdown",
   "id": "346b9a3c-ef44-48ca-9ef8-dec0f62eff05",
   "metadata": {},
   "source": [
    "### 6.1\n",
    "\n",
    "- use DELETE method to delete a resource\n",
    "- address: `https://httpbin.org/delete`"
   ]
  },
  {
   "cell_type": "code",
   "execution_count": 31,
   "id": "32687b9c-a33d-4fea-87ef-2f57693cdb8c",
   "metadata": {},
   "outputs": [],
   "source": [
    "uri = \"https://httpbin.org/delete\""
   ]
  },
  {
   "cell_type": "code",
   "execution_count": 32,
   "id": "6e074ef5-ac38-4463-a1ea-348111769883",
   "metadata": {},
   "outputs": [],
   "source": [
    "response = requests.delete(uri)"
   ]
  },
  {
   "cell_type": "code",
   "execution_count": 33,
   "id": "96601bc6-1a46-4285-a0a9-80834b9796b4",
   "metadata": {},
   "outputs": [
    {
     "data": {
      "text/plain": [
       "200"
      ]
     },
     "execution_count": 33,
     "metadata": {},
     "output_type": "execute_result"
    }
   ],
   "source": [
    "response.status_code"
   ]
  },
  {
   "cell_type": "code",
   "execution_count": 34,
   "id": "5e1b209d-59a4-48a0-86b7-ca224bfa1630",
   "metadata": {},
   "outputs": [
    {
     "data": {
      "text/plain": [
       "{'args': {},\n",
       " 'data': '',\n",
       " 'files': {},\n",
       " 'form': {},\n",
       " 'headers': {'Accept': '*/*',\n",
       "  'Accept-Encoding': 'gzip, deflate',\n",
       "  'Content-Length': '0',\n",
       "  'Host': 'httpbin.org',\n",
       "  'User-Agent': 'python-requests/2.31.0',\n",
       "  'X-Amzn-Trace-Id': 'Root=1-674601ca-371aaeb30334746a67cc9f38'},\n",
       " 'json': None,\n",
       " 'origin': '122.164.82.253',\n",
       " 'url': 'https://httpbin.org/delete'}"
      ]
     },
     "execution_count": 34,
     "metadata": {},
     "output_type": "execute_result"
    }
   ],
   "source": [
    "response.json()"
   ]
  },
  {
   "cell_type": "markdown",
   "id": "0c142b24-2a95-42e8-b75b-010bc1f9c3af",
   "metadata": {},
   "source": [
    "## 7. Headers\n",
    "\n",
    "- use a GET request\n",
    "- url: `https://httpbin.org/headers`"
   ]
  },
  {
   "cell_type": "code",
   "execution_count": 35,
   "id": "cf11ae24-3c72-4611-8451-7eede39bc7e5",
   "metadata": {},
   "outputs": [],
   "source": [
    "headers = {\n",
    "\t'User-Agent': 'Mozilla/5.0 (Windows NT 10.0; Win64; x64)',\n",
    "    'Accept': 'application/json',\n",
    "\t'Authorization': 'Bearer YOUR_ACCESS_TOKEN',\n",
    "\t'Content-Type': 'application/json',\n",
    "\t'X-Custom-Header': 'CustomValue',\n",
    "}"
   ]
  },
  {
   "cell_type": "code",
   "execution_count": 36,
   "id": "8e294084-da3b-460d-9382-d6bfc582fc27",
   "metadata": {},
   "outputs": [],
   "source": [
    "uri = \"https://httpbin.org/headers\""
   ]
  },
  {
   "cell_type": "code",
   "execution_count": 37,
   "id": "5a3c3f90-87f6-41d7-ba9e-7a74c5af5ba3",
   "metadata": {},
   "outputs": [],
   "source": [
    "response = requests.get(uri, headers=headers)"
   ]
  },
  {
   "cell_type": "code",
   "execution_count": 38,
   "id": "7e8856a4-b2ba-4ef6-a94b-6e63bb81fe21",
   "metadata": {},
   "outputs": [
    {
     "data": {
      "text/plain": [
       "200"
      ]
     },
     "execution_count": 38,
     "metadata": {},
     "output_type": "execute_result"
    }
   ],
   "source": [
    "response.status_code"
   ]
  },
  {
   "cell_type": "code",
   "execution_count": 39,
   "id": "8265d8fe-1b4d-4ac3-8ae1-b11741ca12e2",
   "metadata": {},
   "outputs": [
    {
     "data": {
      "text/plain": [
       "{'Date': 'Tue, 26 Nov 2024 17:13:48 GMT', 'Content-Type': 'application/json', 'Content-Length': '387', 'Connection': 'keep-alive', 'Server': 'gunicorn/19.9.0', 'Access-Control-Allow-Origin': '*', 'Access-Control-Allow-Credentials': 'true'}"
      ]
     },
     "execution_count": 39,
     "metadata": {},
     "output_type": "execute_result"
    }
   ],
   "source": [
    "response.headers"
   ]
  },
  {
   "cell_type": "code",
   "execution_count": 40,
   "id": "fa08c34c-ab07-4197-8f55-8536e48ae9bb",
   "metadata": {},
   "outputs": [
    {
     "data": {
      "text/plain": [
       "requests.structures.CaseInsensitiveDict"
      ]
     },
     "execution_count": 40,
     "metadata": {},
     "output_type": "execute_result"
    }
   ],
   "source": [
    "type(response.headers)"
   ]
  },
  {
   "cell_type": "code",
   "execution_count": 41,
   "id": "f5c23612-4be2-4440-8dfb-db635cda21c3",
   "metadata": {},
   "outputs": [
    {
     "data": {
      "text/plain": [
       "{'Date': 'Tue, 26 Nov 2024 17:13:48 GMT',\n",
       " 'Content-Type': 'application/json',\n",
       " 'Content-Length': '387',\n",
       " 'Connection': 'keep-alive',\n",
       " 'Server': 'gunicorn/19.9.0',\n",
       " 'Access-Control-Allow-Origin': '*',\n",
       " 'Access-Control-Allow-Credentials': 'true'}"
      ]
     },
     "execution_count": 41,
     "metadata": {},
     "output_type": "execute_result"
    }
   ],
   "source": [
    "dict(response.headers)"
   ]
  },
  {
   "cell_type": "code",
   "execution_count": 42,
   "id": "bdcb25e7-7b9f-47a2-9d94-0fa102a1f0c6",
   "metadata": {},
   "outputs": [
    {
     "data": {
      "text/plain": [
       "{'headers': {'Accept': 'application/json',\n",
       "  'Accept-Encoding': 'gzip, deflate',\n",
       "  'Authorization': 'Bearer YOUR_ACCESS_TOKEN',\n",
       "  'Content-Type': 'application/json',\n",
       "  'Host': 'httpbin.org',\n",
       "  'User-Agent': 'Mozilla/5.0 (Windows NT 10.0; Win64; x64)',\n",
       "  'X-Amzn-Trace-Id': 'Root=1-674601cc-2e28e43762ae61015f4a7380',\n",
       "  'X-Custom-Header': 'CustomValue'}}"
      ]
     },
     "execution_count": 42,
     "metadata": {},
     "output_type": "execute_result"
    }
   ],
   "source": [
    "response.json()"
   ]
  },
  {
   "cell_type": "code",
   "execution_count": 43,
   "id": "af7825ca-837c-48eb-8000-d3e9caf86681",
   "metadata": {},
   "outputs": [
    {
     "name": "stdout",
     "output_type": "stream",
     "text": [
      "Accept          : application/json\n",
      "Accept-Encoding : gzip, deflate\n",
      "Authorization   : Bearer YOUR_ACCESS_TOKEN\n",
      "Content-Type    : application/json\n",
      "Host            : httpbin.org\n",
      "User-Agent      : Mozilla/5.0 (Windows NT 10.0; Win64; x64)\n",
      "X-Amzn-Trace-Id : Root=1-674601cc-2e28e43762ae61015f4a7380\n",
      "X-Custom-Header : CustomValue\n"
     ]
    }
   ],
   "source": [
    "for header, value in response.json()['headers'].items():\n",
    "\tprint(f\"{header:<16}: {value}\")"
   ]
  },
  {
   "cell_type": "markdown",
   "id": "6c077bf2-b4b4-4b1d-b3f2-a2de60700acd",
   "metadata": {},
   "source": [
    "## 8. Response Object\n",
    "\n",
    "- address: `https://api.github.com`\n",
    "- The most common attributes of the response object are:\n",
    "    - `status_code`: shows the HTTP status code of the request\n",
    "    - `text`: shows the content of the response as a string\n",
    "    - `content`: shows the content of the response as binary data\n",
    "    - `headers`: shows all the response headers\n",
    "    - `json()`: parse the server's response as JSON"
   ]
  },
  {
   "cell_type": "code",
   "execution_count": 44,
   "id": "1aed6b0f-0194-4af8-82f7-d42d815215a4",
   "metadata": {},
   "outputs": [],
   "source": [
    "uri = \"https://api.github.com\""
   ]
  },
  {
   "cell_type": "code",
   "execution_count": 45,
   "id": "a0585d0f-ac05-441e-86e4-5c139e21052f",
   "metadata": {},
   "outputs": [],
   "source": [
    "response = requests.get(uri)"
   ]
  },
  {
   "cell_type": "code",
   "execution_count": 46,
   "id": "0a686758-50dc-43a5-8662-ed3e6b39a92c",
   "metadata": {},
   "outputs": [
    {
     "data": {
      "text/plain": [
       "<Response [200]>"
      ]
     },
     "execution_count": 46,
     "metadata": {},
     "output_type": "execute_result"
    }
   ],
   "source": [
    "response"
   ]
  },
  {
   "cell_type": "code",
   "execution_count": 47,
   "id": "05489fbc-2cdd-437b-ac7f-4fa4ffe48f33",
   "metadata": {},
   "outputs": [
    {
     "data": {
      "text/plain": [
       "200"
      ]
     },
     "execution_count": 47,
     "metadata": {},
     "output_type": "execute_result"
    }
   ],
   "source": [
    "response.status_code"
   ]
  },
  {
   "cell_type": "code",
   "execution_count": 48,
   "id": "5bcee850-0576-4495-a0b2-e3057a287400",
   "metadata": {},
   "outputs": [
    {
     "data": {
      "text/plain": [
       "int"
      ]
     },
     "execution_count": 48,
     "metadata": {},
     "output_type": "execute_result"
    }
   ],
   "source": [
    "type(response.status_code)"
   ]
  },
  {
   "cell_type": "code",
   "execution_count": 49,
   "id": "4752538e-49ef-4eb4-9bae-1c1d7069a5ca",
   "metadata": {},
   "outputs": [
    {
     "name": "stdout",
     "output_type": "stream",
     "text": [
      "Successful Request!\n"
     ]
    }
   ],
   "source": [
    "if response.status_code == 200:\n",
    "\tprint(\"Successful Request!\")\n",
    "else:\n",
    "\tprint(\"Unsuccessful Request!\")"
   ]
  },
  {
   "cell_type": "code",
   "execution_count": 50,
   "id": "c903c160-b85c-43c1-9bef-2b4031b70fa1",
   "metadata": {},
   "outputs": [
    {
     "data": {
      "text/plain": [
       "'{\"current_user_url\":\"https://api.github.com/user\",\"current_user_authorizations_html_url\":\"https://github.com/settings/connections/applications{/client_id}\",\"authorizations_url\":\"https://api.github.com/authorizations\",\"code_search_url\":\"https://api.github.com/search/code?q={query}{&page,per_page,sort,order}\",\"commit_search_url\":\"https://api.github.com/search/commits?q={query}{&page,per_page,sort,order}\",\"emails_url\":\"https://api.github.com/user/emails\",\"emojis_url\":\"https://api.github.com/emojis\",\"events_url\":\"https://api.github.com/events\",\"feeds_url\":\"https://api.github.com/feeds\",\"followers_url\":\"https://api.github.com/user/followers\",\"following_url\":\"https://api.github.com/user/following{/target}\",\"gists_url\":\"https://api.github.com/gists{/gist_id}\",\"hub_url\":\"https://api.github.com/hub\",\"issue_search_url\":\"https://api.github.com/search/issues?q={query}{&page,per_page,sort,order}\",\"issues_url\":\"https://api.github.com/issues\",\"keys_url\":\"https://api.github.com/user/keys\",\"label_search_url\":\"https://api.github.com/search/labels?q={query}&repository_id={repository_id}{&page,per_page}\",\"notifications_url\":\"https://api.github.com/notifications\",\"organization_url\":\"https://api.github.com/orgs/{org}\",\"organization_repositories_url\":\"https://api.github.com/orgs/{org}/repos{?type,page,per_page,sort}\",\"organization_teams_url\":\"https://api.github.com/orgs/{org}/teams\",\"public_gists_url\":\"https://api.github.com/gists/public\",\"rate_limit_url\":\"https://api.github.com/rate_limit\",\"repository_url\":\"https://api.github.com/repos/{owner}/{repo}\",\"repository_search_url\":\"https://api.github.com/search/repositories?q={query}{&page,per_page,sort,order}\",\"current_user_repositories_url\":\"https://api.github.com/user/repos{?type,page,per_page,sort}\",\"starred_url\":\"https://api.github.com/user/starred{/owner}{/repo}\",\"starred_gists_url\":\"https://api.github.com/gists/starred\",\"topic_search_url\":\"https://api.github.com/search/topics?q={query}{&page,per_page}\",\"user_url\":\"https://api.github.com/users/{user}\",\"user_organizations_url\":\"https://api.github.com/user/orgs\",\"user_repositories_url\":\"https://api.github.com/users/{user}/repos{?type,page,per_page,sort}\",\"user_search_url\":\"https://api.github.com/search/users?q={query}{&page,per_page,sort,order}\"}'"
      ]
     },
     "execution_count": 50,
     "metadata": {},
     "output_type": "execute_result"
    }
   ],
   "source": [
    "response.text"
   ]
  },
  {
   "cell_type": "code",
   "execution_count": 51,
   "id": "cc4faf62-75ad-4dd9-a165-e98a330ac0b2",
   "metadata": {},
   "outputs": [
    {
     "data": {
      "text/plain": [
       "str"
      ]
     },
     "execution_count": 51,
     "metadata": {},
     "output_type": "execute_result"
    }
   ],
   "source": [
    "type(response.text)"
   ]
  },
  {
   "cell_type": "code",
   "execution_count": 52,
   "id": "d4f1a6d9-c95f-4da3-8278-095f7471aa1e",
   "metadata": {},
   "outputs": [
    {
     "data": {
      "text/plain": [
       "b'{\"current_user_url\":\"https://api.github.com/user\",\"current_user_authorizations_html_url\":\"https://github.com/settings/connections/applications{/client_id}\",\"authorizations_url\":\"https://api.github.com/authorizations\",\"code_search_url\":\"https://api.github.com/search/code?q={query}{&page,per_page,sort,order}\",\"commit_search_url\":\"https://api.github.com/search/commits?q={query}{&page,per_page,sort,order}\",\"emails_url\":\"https://api.github.com/user/emails\",\"emojis_url\":\"https://api.github.com/emojis\",\"events_url\":\"https://api.github.com/events\",\"feeds_url\":\"https://api.github.com/feeds\",\"followers_url\":\"https://api.github.com/user/followers\",\"following_url\":\"https://api.github.com/user/following{/target}\",\"gists_url\":\"https://api.github.com/gists{/gist_id}\",\"hub_url\":\"https://api.github.com/hub\",\"issue_search_url\":\"https://api.github.com/search/issues?q={query}{&page,per_page,sort,order}\",\"issues_url\":\"https://api.github.com/issues\",\"keys_url\":\"https://api.github.com/user/keys\",\"label_search_url\":\"https://api.github.com/search/labels?q={query}&repository_id={repository_id}{&page,per_page}\",\"notifications_url\":\"https://api.github.com/notifications\",\"organization_url\":\"https://api.github.com/orgs/{org}\",\"organization_repositories_url\":\"https://api.github.com/orgs/{org}/repos{?type,page,per_page,sort}\",\"organization_teams_url\":\"https://api.github.com/orgs/{org}/teams\",\"public_gists_url\":\"https://api.github.com/gists/public\",\"rate_limit_url\":\"https://api.github.com/rate_limit\",\"repository_url\":\"https://api.github.com/repos/{owner}/{repo}\",\"repository_search_url\":\"https://api.github.com/search/repositories?q={query}{&page,per_page,sort,order}\",\"current_user_repositories_url\":\"https://api.github.com/user/repos{?type,page,per_page,sort}\",\"starred_url\":\"https://api.github.com/user/starred{/owner}{/repo}\",\"starred_gists_url\":\"https://api.github.com/gists/starred\",\"topic_search_url\":\"https://api.github.com/search/topics?q={query}{&page,per_page}\",\"user_url\":\"https://api.github.com/users/{user}\",\"user_organizations_url\":\"https://api.github.com/user/orgs\",\"user_repositories_url\":\"https://api.github.com/users/{user}/repos{?type,page,per_page,sort}\",\"user_search_url\":\"https://api.github.com/search/users?q={query}{&page,per_page,sort,order}\"}'"
      ]
     },
     "execution_count": 52,
     "metadata": {},
     "output_type": "execute_result"
    }
   ],
   "source": [
    "response.content"
   ]
  },
  {
   "cell_type": "code",
   "execution_count": 53,
   "id": "4c4d0819-aaed-460a-bc01-576d6068cc6e",
   "metadata": {},
   "outputs": [
    {
     "data": {
      "text/plain": [
       "bytes"
      ]
     },
     "execution_count": 53,
     "metadata": {},
     "output_type": "execute_result"
    }
   ],
   "source": [
    "type(response.content)"
   ]
  },
  {
   "cell_type": "code",
   "execution_count": 54,
   "id": "d4047c6f-0a0b-4cad-b100-91d6c8bdd28a",
   "metadata": {},
   "outputs": [
    {
     "data": {
      "text/plain": [
       "{'Date': 'Tue, 26 Nov 2024 17:13:37 GMT', 'Content-Type': 'application/json; charset=utf-8', 'Cache-Control': 'public, max-age=60, s-maxage=60', 'Vary': 'Accept,Accept-Encoding, Accept, X-Requested-With', 'ETag': 'W/\"4f825cc84e1c733059d46e76e6df9db557ae5254f9625dfe8e1b09499c449438\"', 'X-GitHub-Media-Type': 'github.v3; format=json', 'x-github-api-version-selected': '2022-11-28', 'Access-Control-Expose-Headers': 'ETag, Link, Location, Retry-After, X-GitHub-OTP, X-RateLimit-Limit, X-RateLimit-Remaining, X-RateLimit-Used, X-RateLimit-Resource, X-RateLimit-Reset, X-OAuth-Scopes, X-Accepted-OAuth-Scopes, X-Poll-Interval, X-GitHub-Media-Type, X-GitHub-SSO, X-GitHub-Request-Id, Deprecation, Sunset', 'Access-Control-Allow-Origin': '*', 'Strict-Transport-Security': 'max-age=31536000; includeSubdomains; preload', 'X-Frame-Options': 'deny', 'X-Content-Type-Options': 'nosniff', 'X-XSS-Protection': '0', 'Referrer-Policy': 'origin-when-cross-origin, strict-origin-when-cross-origin', 'Content-Security-Policy': \"default-src 'none'\", 'Content-Encoding': 'gzip', 'Server': 'github.com', 'X-RateLimit-Limit': '60', 'X-RateLimit-Remaining': '53', 'X-RateLimit-Reset': '1732642638', 'X-RateLimit-Resource': 'core', 'X-RateLimit-Used': '7', 'Accept-Ranges': 'bytes', 'Content-Length': '510', 'X-GitHub-Request-Id': '5E20:34025C:6D36DA:78BE07:674601CC'}"
      ]
     },
     "execution_count": 54,
     "metadata": {},
     "output_type": "execute_result"
    }
   ],
   "source": [
    "response.headers"
   ]
  },
  {
   "cell_type": "code",
   "execution_count": 55,
   "id": "dd97ffa1-006c-435a-8f66-0338b4fafc30",
   "metadata": {},
   "outputs": [
    {
     "data": {
      "text/plain": [
       "{'Date': 'Tue, 26 Nov 2024 17:13:37 GMT',\n",
       " 'Content-Type': 'application/json; charset=utf-8',\n",
       " 'Cache-Control': 'public, max-age=60, s-maxage=60',\n",
       " 'Vary': 'Accept,Accept-Encoding, Accept, X-Requested-With',\n",
       " 'ETag': 'W/\"4f825cc84e1c733059d46e76e6df9db557ae5254f9625dfe8e1b09499c449438\"',\n",
       " 'X-GitHub-Media-Type': 'github.v3; format=json',\n",
       " 'x-github-api-version-selected': '2022-11-28',\n",
       " 'Access-Control-Expose-Headers': 'ETag, Link, Location, Retry-After, X-GitHub-OTP, X-RateLimit-Limit, X-RateLimit-Remaining, X-RateLimit-Used, X-RateLimit-Resource, X-RateLimit-Reset, X-OAuth-Scopes, X-Accepted-OAuth-Scopes, X-Poll-Interval, X-GitHub-Media-Type, X-GitHub-SSO, X-GitHub-Request-Id, Deprecation, Sunset',\n",
       " 'Access-Control-Allow-Origin': '*',\n",
       " 'Strict-Transport-Security': 'max-age=31536000; includeSubdomains; preload',\n",
       " 'X-Frame-Options': 'deny',\n",
       " 'X-Content-Type-Options': 'nosniff',\n",
       " 'X-XSS-Protection': '0',\n",
       " 'Referrer-Policy': 'origin-when-cross-origin, strict-origin-when-cross-origin',\n",
       " 'Content-Security-Policy': \"default-src 'none'\",\n",
       " 'Content-Encoding': 'gzip',\n",
       " 'Server': 'github.com',\n",
       " 'X-RateLimit-Limit': '60',\n",
       " 'X-RateLimit-Remaining': '53',\n",
       " 'X-RateLimit-Reset': '1732642638',\n",
       " 'X-RateLimit-Resource': 'core',\n",
       " 'X-RateLimit-Used': '7',\n",
       " 'Accept-Ranges': 'bytes',\n",
       " 'Content-Length': '510',\n",
       " 'X-GitHub-Request-Id': '5E20:34025C:6D36DA:78BE07:674601CC'}"
      ]
     },
     "execution_count": 55,
     "metadata": {},
     "output_type": "execute_result"
    }
   ],
   "source": [
    "dict(response.headers)"
   ]
  },
  {
   "cell_type": "code",
   "execution_count": 56,
   "id": "dfc97546-248c-4921-a96c-75d6eec4f04b",
   "metadata": {},
   "outputs": [
    {
     "name": "stdout",
     "output_type": "stream",
     "text": [
      "Date                               : Tue, 26 Nov 2024 17:13:37 GMT\n",
      "Content-Type                       : application/json; charset=utf-8\n",
      "Cache-Control                      : public, max-age=60, s-maxage=60\n",
      "Vary                               : Accept,Accept-Encoding, Accept, X-Requested-With\n",
      "ETag                               : W/\"4f825cc84e1c733059d46e76e6df9db557ae5254f9625dfe8e1b09499c449438\"\n",
      "X-GitHub-Media-Type                : github.v3; format=json\n",
      "x-github-api-version-selected      : 2022-11-28\n",
      "Access-Control-Expose-Headers      : ETag, Link, Location, Retry-After, X-GitHub-OTP, X-RateLimit-Limit, X-RateLimit-Remaining, X-RateLimit-Used, X-RateLimit-Resource, X-RateLimit-Reset, X-OAuth-Scopes, X-Accepted-OAuth-Scopes, X-Poll-Interval, X-GitHub-Media-Type, X-GitHub-SSO, X-GitHub-Request-Id, Deprecation, Sunset\n",
      "Access-Control-Allow-Origin        : *\n",
      "Strict-Transport-Security          : max-age=31536000; includeSubdomains; preload\n",
      "X-Frame-Options                    : deny\n",
      "X-Content-Type-Options             : nosniff\n",
      "X-XSS-Protection                   : 0\n",
      "Referrer-Policy                    : origin-when-cross-origin, strict-origin-when-cross-origin\n",
      "Content-Security-Policy            : default-src 'none'\n",
      "Content-Encoding                   : gzip\n",
      "Server                             : github.com\n",
      "X-RateLimit-Limit                  : 60\n",
      "X-RateLimit-Remaining              : 53\n",
      "X-RateLimit-Reset                  : 1732642638\n",
      "X-RateLimit-Resource               : core\n",
      "X-RateLimit-Used                   : 7\n",
      "Accept-Ranges                      : bytes\n",
      "Content-Length                     : 510\n",
      "X-GitHub-Request-Id                : 5E20:34025C:6D36DA:78BE07:674601CC\n"
     ]
    }
   ],
   "source": [
    "for header, value in dict(response.headers).items():\n",
    "\tprint(f\"{header:<35}: {value}\")"
   ]
  },
  {
   "cell_type": "code",
   "execution_count": 57,
   "id": "9e46de3e-172c-4ee0-8f6a-3748b6d2de84",
   "metadata": {},
   "outputs": [
    {
     "data": {
      "text/plain": [
       "{'current_user_url': 'https://api.github.com/user',\n",
       " 'current_user_authorizations_html_url': 'https://github.com/settings/connections/applications{/client_id}',\n",
       " 'authorizations_url': 'https://api.github.com/authorizations',\n",
       " 'code_search_url': 'https://api.github.com/search/code?q={query}{&page,per_page,sort,order}',\n",
       " 'commit_search_url': 'https://api.github.com/search/commits?q={query}{&page,per_page,sort,order}',\n",
       " 'emails_url': 'https://api.github.com/user/emails',\n",
       " 'emojis_url': 'https://api.github.com/emojis',\n",
       " 'events_url': 'https://api.github.com/events',\n",
       " 'feeds_url': 'https://api.github.com/feeds',\n",
       " 'followers_url': 'https://api.github.com/user/followers',\n",
       " 'following_url': 'https://api.github.com/user/following{/target}',\n",
       " 'gists_url': 'https://api.github.com/gists{/gist_id}',\n",
       " 'hub_url': 'https://api.github.com/hub',\n",
       " 'issue_search_url': 'https://api.github.com/search/issues?q={query}{&page,per_page,sort,order}',\n",
       " 'issues_url': 'https://api.github.com/issues',\n",
       " 'keys_url': 'https://api.github.com/user/keys',\n",
       " 'label_search_url': 'https://api.github.com/search/labels?q={query}&repository_id={repository_id}{&page,per_page}',\n",
       " 'notifications_url': 'https://api.github.com/notifications',\n",
       " 'organization_url': 'https://api.github.com/orgs/{org}',\n",
       " 'organization_repositories_url': 'https://api.github.com/orgs/{org}/repos{?type,page,per_page,sort}',\n",
       " 'organization_teams_url': 'https://api.github.com/orgs/{org}/teams',\n",
       " 'public_gists_url': 'https://api.github.com/gists/public',\n",
       " 'rate_limit_url': 'https://api.github.com/rate_limit',\n",
       " 'repository_url': 'https://api.github.com/repos/{owner}/{repo}',\n",
       " 'repository_search_url': 'https://api.github.com/search/repositories?q={query}{&page,per_page,sort,order}',\n",
       " 'current_user_repositories_url': 'https://api.github.com/user/repos{?type,page,per_page,sort}',\n",
       " 'starred_url': 'https://api.github.com/user/starred{/owner}{/repo}',\n",
       " 'starred_gists_url': 'https://api.github.com/gists/starred',\n",
       " 'topic_search_url': 'https://api.github.com/search/topics?q={query}{&page,per_page}',\n",
       " 'user_url': 'https://api.github.com/users/{user}',\n",
       " 'user_organizations_url': 'https://api.github.com/user/orgs',\n",
       " 'user_repositories_url': 'https://api.github.com/users/{user}/repos{?type,page,per_page,sort}',\n",
       " 'user_search_url': 'https://api.github.com/search/users?q={query}{&page,per_page,sort,order}'}"
      ]
     },
     "execution_count": 57,
     "metadata": {},
     "output_type": "execute_result"
    }
   ],
   "source": [
    "response.json()"
   ]
  },
  {
   "cell_type": "code",
   "execution_count": 58,
   "id": "ec97565c-ec15-4ae7-b253-e2550093b305",
   "metadata": {},
   "outputs": [
    {
     "data": {
      "text/plain": [
       "{'current_user_url': 'https://api.github.com/user',\n",
       " 'current_user_authorizations_html_url': 'https://github.com/settings/connections/applications{/client_id}',\n",
       " 'authorizations_url': 'https://api.github.com/authorizations',\n",
       " 'code_search_url': 'https://api.github.com/search/code?q={query}{&page,per_page,sort,order}',\n",
       " 'commit_search_url': 'https://api.github.com/search/commits?q={query}{&page,per_page,sort,order}',\n",
       " 'emails_url': 'https://api.github.com/user/emails',\n",
       " 'emojis_url': 'https://api.github.com/emojis',\n",
       " 'events_url': 'https://api.github.com/events',\n",
       " 'feeds_url': 'https://api.github.com/feeds',\n",
       " 'followers_url': 'https://api.github.com/user/followers',\n",
       " 'following_url': 'https://api.github.com/user/following{/target}',\n",
       " 'gists_url': 'https://api.github.com/gists{/gist_id}',\n",
       " 'hub_url': 'https://api.github.com/hub',\n",
       " 'issue_search_url': 'https://api.github.com/search/issues?q={query}{&page,per_page,sort,order}',\n",
       " 'issues_url': 'https://api.github.com/issues',\n",
       " 'keys_url': 'https://api.github.com/user/keys',\n",
       " 'label_search_url': 'https://api.github.com/search/labels?q={query}&repository_id={repository_id}{&page,per_page}',\n",
       " 'notifications_url': 'https://api.github.com/notifications',\n",
       " 'organization_url': 'https://api.github.com/orgs/{org}',\n",
       " 'organization_repositories_url': 'https://api.github.com/orgs/{org}/repos{?type,page,per_page,sort}',\n",
       " 'organization_teams_url': 'https://api.github.com/orgs/{org}/teams',\n",
       " 'public_gists_url': 'https://api.github.com/gists/public',\n",
       " 'rate_limit_url': 'https://api.github.com/rate_limit',\n",
       " 'repository_url': 'https://api.github.com/repos/{owner}/{repo}',\n",
       " 'repository_search_url': 'https://api.github.com/search/repositories?q={query}{&page,per_page,sort,order}',\n",
       " 'current_user_repositories_url': 'https://api.github.com/user/repos{?type,page,per_page,sort}',\n",
       " 'starred_url': 'https://api.github.com/user/starred{/owner}{/repo}',\n",
       " 'starred_gists_url': 'https://api.github.com/gists/starred',\n",
       " 'topic_search_url': 'https://api.github.com/search/topics?q={query}{&page,per_page}',\n",
       " 'user_url': 'https://api.github.com/users/{user}',\n",
       " 'user_organizations_url': 'https://api.github.com/user/orgs',\n",
       " 'user_repositories_url': 'https://api.github.com/users/{user}/repos{?type,page,per_page,sort}',\n",
       " 'user_search_url': 'https://api.github.com/search/users?q={query}{&page,per_page,sort,order}'}"
      ]
     },
     "execution_count": 58,
     "metadata": {},
     "output_type": "execute_result"
    }
   ],
   "source": [
    "dict(response.json())"
   ]
  },
  {
   "cell_type": "markdown",
   "id": "bd19cedc-e0e6-4eac-9111-cd2d78dc20b4",
   "metadata": {},
   "source": [
    "## 9. Working with a public API\n",
    "\n",
    "- API: `https://jsonplaceholder.typicode.com/`\n",
    "- endpoint: `posts`\n",
    "- perform error handling: `raise_for_status()`"
   ]
  },
  {
   "cell_type": "code",
   "execution_count": 59,
   "id": "7f66658f-57a4-4f7e-9097-e6513761bd3f",
   "metadata": {},
   "outputs": [],
   "source": [
    "url = \"https://jsonplaceholder.typicode.com/posts\""
   ]
  },
  {
   "cell_type": "markdown",
   "id": "40a7f46b-7060-45de-b416-a6ca504afc50",
   "metadata": {},
   "source": [
    "### 9.1\n",
    "\n",
    "- Make a GET request to retrieve a list of posts"
   ]
  },
  {
   "cell_type": "code",
   "execution_count": 60,
   "id": "c6287d9d-1a56-4252-88ea-5d0d01095bfd",
   "metadata": {},
   "outputs": [
    {
     "name": "stdout",
     "output_type": "stream",
     "text": [
      "Status Code: 200\n",
      "\n",
      "Successful GET request!\n",
      "\n",
      "Post 1:\n",
      "{'userId': 1, 'id': 1, 'title': 'sunt aut facere repellat provident occaecati excepturi optio reprehenderit', 'body': 'quia et suscipit\\nsuscipit recusandae consequuntur expedita et cum\\nreprehenderit molestiae ut ut quas totam\\nnostrum rerum est autem sunt rem eveniet architecto'}\n",
      "\n",
      "Post 2:\n",
      "{'userId': 1, 'id': 2, 'title': 'qui est esse', 'body': 'est rerum tempore vitae\\nsequi sint nihil reprehenderit dolor beatae ea dolores neque\\nfugiat blanditiis voluptate porro vel nihil molestiae ut reiciendis\\nqui aperiam non debitis possimus qui neque nisi nulla'}\n",
      "\n",
      "Post 3:\n",
      "{'userId': 1, 'id': 3, 'title': 'ea molestias quasi exercitationem repellat qui ipsa sit aut', 'body': 'et iusto sed quo iure\\nvoluptatem occaecati omnis eligendi aut ad\\nvoluptatem doloribus vel accusantium quis pariatur\\nmolestiae porro eius odio et labore et velit aut'}\n"
     ]
    }
   ],
   "source": [
    "try:\n",
    "\tresponse = requests.get(url)\n",
    "\tresponse.raise_for_status()\n",
    "except Exception as e:\n",
    "\tprint(e)\n",
    "else:\n",
    "\tstatus_code = response.status_code\n",
    "\tprint(f\"Status Code: {status_code}\")\n",
    "\tif status_code == 200:\n",
    "\t\tprint(\"\\nSuccessful GET request!\")\n",
    "\t\tposts = response.json()\n",
    "\t\tfor i in range(3):\n",
    "\t\t\tprint(f\"\\nPost {i + 1}:\")\n",
    "\t\t\tprint(posts[i])\n",
    "\telse:\n",
    "\t\tprint(\"Unsuccessful GET request!\")"
   ]
  },
  {
   "cell_type": "markdown",
   "id": "7b5a5cc3-f89b-4d6b-80d4-ea115ed71a5f",
   "metadata": {},
   "source": [
    "### 9.2\n",
    "\n",
    "- Make a POST request to submit a post\n",
    "- include the following parameters:\n",
    "    - `title`\n",
    "    - `body`\n",
    "    - `userId` "
   ]
  },
  {
   "cell_type": "code",
   "execution_count": 61,
   "id": "95d2200f-c8d9-4002-ab3b-ffc22f976cd5",
   "metadata": {},
   "outputs": [],
   "source": [
    "new_post = {\n",
    "\t\"title\": \"Sample Post\",\n",
    "\t\"body\": \"This is a sample post\",\n",
    "\t\"userId\": 101\n",
    "}"
   ]
  },
  {
   "cell_type": "code",
   "execution_count": 62,
   "id": "e2df9046-0087-4810-aad3-4b8783deed64",
   "metadata": {},
   "outputs": [
    {
     "name": "stdout",
     "output_type": "stream",
     "text": [
      "Status Code: 201\n",
      "\n",
      "Successful POST request!\n",
      "\n",
      "Post:\n",
      "{'title': 'Sample Post', 'body': 'This is a sample post', 'userId': '101', 'id': 101}\n"
     ]
    }
   ],
   "source": [
    "try:\n",
    "\tresponse = requests.post(url, data=new_post)\n",
    "\tresponse.raise_for_status()\n",
    "except Exception as e:\n",
    "\tprint(e)\n",
    "else:\n",
    "\tstatus_code = response.status_code\n",
    "\tif status_code == 201:\n",
    "\t\tprint(f\"Status Code: {status_code}\")\n",
    "\t\tprint(\"\\nSuccessful POST request!\")\n",
    "\t\tpost = response.json()\n",
    "\t\tprint(\"\\nPost:\")\n",
    "\t\tprint(post)\n",
    "\telse:\n",
    "\t\tprint(f\"Status Code: {status_code}\")\n",
    "\t\tprint(\"\\nUnsuccessful POST request!\")"
   ]
  }
 ],
 "metadata": {
  "kernelspec": {
   "display_name": "Python 3 (ipykernel)",
   "language": "python",
   "name": "python3"
  },
  "language_info": {
   "codemirror_mode": {
    "name": "ipython",
    "version": 3
   },
   "file_extension": ".py",
   "mimetype": "text/x-python",
   "name": "python",
   "nbconvert_exporter": "python",
   "pygments_lexer": "ipython3",
   "version": "3.13.3"
  }
 },
 "nbformat": 4,
 "nbformat_minor": 5
}
