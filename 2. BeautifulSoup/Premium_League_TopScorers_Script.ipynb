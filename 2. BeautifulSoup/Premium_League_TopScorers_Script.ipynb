{
 "cells": [
  {
   "cell_type": "markdown",
   "id": "aba344db-4223-43cb-91e1-4fcf67821958",
   "metadata": {},
   "source": [
    "# HTML parsing with `Beautiful Soup`: A Mini Project\n",
    "\n",
    "- scrape data from a public website\n",
    "- organize the data as a dataframe\n",
    "- export the data as an excel sheet"
   ]
  },
  {
   "cell_type": "markdown",
   "id": "54ce3903-2fa8-4c82-869f-52527c2ff28e",
   "metadata": {},
   "source": [
    "## Import"
   ]
  },
  {
   "cell_type": "code",
   "execution_count": 5,
   "id": "eb63729f-9748-4aa4-a2f7-f59384efede8",
   "metadata": {},
   "outputs": [],
   "source": [
    "import pandas as pd\n",
    "import requests\n",
    "from bs4 import BeautifulSoup"
   ]
  },
  {
   "cell_type": "markdown",
   "id": "87d131a7-06ec-480f-b934-1caa97224ec9",
   "metadata": {},
   "source": [
    "#\n",
    "## Request And Script"
   ]
  },
  {
   "cell_type": "code",
   "execution_count": 12,
   "id": "b3414910-fcf7-4dd3-9da8-761e692b5a3a",
   "metadata": {},
   "outputs": [],
   "source": [
    "url = 'https://www.bbc.com/sport/football/womens-european-championship/top-scorers'"
   ]
  },
  {
   "cell_type": "code",
   "execution_count": 13,
   "id": "853ff190-c52e-4c1c-8231-162805ae29af",
   "metadata": {},
   "outputs": [],
   "source": [
    "name= []\n",
    "club = []\n",
    "matches=[]\n",
    "goals=[]\n",
    "assists = []"
   ]
  },
  {
   "cell_type": "code",
   "execution_count": 14,
   "id": "bf15c24b-ebf2-40ee-8627-ea1a457311e1",
   "metadata": {},
   "outputs": [
    {
     "name": "stdout",
     "output_type": "stream",
     "text": [
      "\n",
      "Successfull Request!!\n",
      "\n",
      "Successfull Execution\n",
      "\n",
      "DataFrame Created\n",
      "\n"
     ]
    },
    {
     "data": {
      "text/html": [
       "<div>\n",
       "<style scoped>\n",
       "    .dataframe tbody tr th:only-of-type {\n",
       "        vertical-align: middle;\n",
       "    }\n",
       "\n",
       "    .dataframe tbody tr th {\n",
       "        vertical-align: top;\n",
       "    }\n",
       "\n",
       "    .dataframe thead th {\n",
       "        text-align: right;\n",
       "    }\n",
       "</style>\n",
       "<table border=\"1\" class=\"dataframe\">\n",
       "  <thead>\n",
       "    <tr style=\"text-align: right;\">\n",
       "      <th></th>\n",
       "      <th>Player_Name</th>\n",
       "      <th>Club</th>\n",
       "      <th>Matches_Played</th>\n",
       "      <th>Goals</th>\n",
       "      <th>Assist</th>\n",
       "    </tr>\n",
       "  </thead>\n",
       "  <tbody>\n",
       "    <tr>\n",
       "      <th>0</th>\n",
       "      <td>Esther González</td>\n",
       "      <td>Spain</td>\n",
       "      <td>6</td>\n",
       "      <td>4</td>\n",
       "      <td>0</td>\n",
       "    </tr>\n",
       "    <tr>\n",
       "      <th>1</th>\n",
       "      <td>Alèxia Putellas</td>\n",
       "      <td>Spain</td>\n",
       "      <td>6</td>\n",
       "      <td>3</td>\n",
       "      <td>4</td>\n",
       "    </tr>\n",
       "    <tr>\n",
       "      <th>2</th>\n",
       "      <td>S. Blackstenius</td>\n",
       "      <td>Sweden</td>\n",
       "      <td>4</td>\n",
       "      <td>3</td>\n",
       "      <td>1</td>\n",
       "    </tr>\n",
       "    <tr>\n",
       "      <th>3</th>\n",
       "      <td>C. Girelli</td>\n",
       "      <td>Italy</td>\n",
       "      <td>5</td>\n",
       "      <td>3</td>\n",
       "      <td>0</td>\n",
       "    </tr>\n",
       "    <tr>\n",
       "      <th>4</th>\n",
       "      <td>K. Asllani</td>\n",
       "      <td>Sweden</td>\n",
       "      <td>4</td>\n",
       "      <td>2</td>\n",
       "      <td>3</td>\n",
       "    </tr>\n",
       "    <tr>\n",
       "      <th>...</th>\n",
       "      <td>...</td>\n",
       "      <td>...</td>\n",
       "      <td>...</td>\n",
       "      <td>...</td>\n",
       "      <td>...</td>\n",
       "    </tr>\n",
       "    <tr>\n",
       "      <th>69</th>\n",
       "      <td>Irene Paredes</td>\n",
       "      <td>Spain</td>\n",
       "      <td>5</td>\n",
       "      <td>1</td>\n",
       "      <td>0</td>\n",
       "    </tr>\n",
       "    <tr>\n",
       "      <th>70</th>\n",
       "      <td>L. Hemp</td>\n",
       "      <td>England</td>\n",
       "      <td>6</td>\n",
       "      <td>1</td>\n",
       "      <td>0</td>\n",
       "    </tr>\n",
       "    <tr>\n",
       "      <th>71</th>\n",
       "      <td>Patri Guijarro</td>\n",
       "      <td>Spain</td>\n",
       "      <td>6</td>\n",
       "      <td>1</td>\n",
       "      <td>0</td>\n",
       "    </tr>\n",
       "    <tr>\n",
       "      <th>72</th>\n",
       "      <td>L. Bronze</td>\n",
       "      <td>England</td>\n",
       "      <td>6</td>\n",
       "      <td>1</td>\n",
       "      <td>0</td>\n",
       "    </tr>\n",
       "    <tr>\n",
       "      <th>73</th>\n",
       "      <td>K. Walsh</td>\n",
       "      <td>England</td>\n",
       "      <td>6</td>\n",
       "      <td>1</td>\n",
       "      <td>0</td>\n",
       "    </tr>\n",
       "  </tbody>\n",
       "</table>\n",
       "<p>74 rows × 5 columns</p>\n",
       "</div>"
      ],
      "text/plain": [
       "        Player_Name     Club  Matches_Played  Goals  Assist\n",
       "0   Esther González    Spain               6      4       0\n",
       "1   Alèxia Putellas    Spain               6      3       4\n",
       "2   S. Blackstenius   Sweden               4      3       1\n",
       "3        C. Girelli    Italy               5      3       0\n",
       "4        K. Asllani   Sweden               4      2       3\n",
       "..              ...      ...             ...    ...     ...\n",
       "69    Irene Paredes    Spain               5      1       0\n",
       "70          L. Hemp  England               6      1       0\n",
       "71   Patri Guijarro    Spain               6      1       0\n",
       "72        L. Bronze  England               6      1       0\n",
       "73         K. Walsh  England               6      1       0\n",
       "\n",
       "[74 rows x 5 columns]"
      ]
     },
     "execution_count": 14,
     "metadata": {},
     "output_type": "execute_result"
    }
   ],
   "source": [
    "try:\n",
    "    response = requests.get(url)\n",
    "    response.raise_for_status\n",
    "except Exception as e:\n",
    "    print(e)\n",
    "else:\n",
    "    print('\\nSuccessfull Request!!\\n')\n",
    "    soup = BeautifulSoup(response.content, 'html.parser')\n",
    "    \n",
    "    #print(soup.prettify())\n",
    "    # print(f'Tables in websight : {len(soup.find_all('tbody'))}')\n",
    "    # print(f'No of Players in websight : {len(soup.find('tbody').find_all('tr'))}')\n",
    "\n",
    "    for data in soup.find('tbody').find_all('tr', class_='ssrcss-qqhdqi-TableRowBody e1icz100'):\n",
    "        player= data.find('div', class_= 'ssrcss-m6ah29-PlayerName e1n8xy5b1').get_text(strip= True)\n",
    "        team = data.find('div', class_= 'ssrcss-qvpga1-TeamsSummary e1n8xy5b0').get_text(strip = True)\n",
    "        goal = int(data.find('div', class_= 'ssrcss-18ap757-CellWrapper ef9ipf0').get_text(strip=True))\n",
    "        \n",
    "        data_1 = data.find_all('div', class_ = \"ssrcss-1vo7v3r-CellWrapper ef9ipf0\")\n",
    "        match = int(data_1[2].get_text(strip = True))\n",
    "        assist = int(data_1[0].get_text(strip = True))\n",
    "\n",
    "        \n",
    "\n",
    "        name.append(player)\n",
    "        club.append(team)\n",
    "        goals.append(goal)\n",
    "        matches.append(match)\n",
    "        assists.append(assist)\n",
    "\n",
    "    print('Successfull Execution')\n",
    "    details = {\n",
    "        'Player_Name' : name,\n",
    "        'Club' : club,\n",
    "        \"Matches_Played\" : matches,\n",
    "        'Goals' : goals,\n",
    "        \"Assist\" : assists\n",
    "    }\n",
    "    Data_Frame= pd.DataFrame(details)\n",
    "\n",
    "    print('\\nDataFrame Created\\n')\n",
    "        \n",
    "\n",
    "Data_Frame\n",
    "\n",
    "    \n"
   ]
  },
  {
   "cell_type": "code",
   "execution_count": 15,
   "id": "5a5969dc-4ec3-46b8-ac38-da6eb3605f31",
   "metadata": {},
   "outputs": [
    {
     "name": "stdout",
     "output_type": "stream",
     "text": [
      "Exported To Excel\n"
     ]
    }
   ],
   "source": [
    "Data_Frame.to_excel('Premium_League Top Scorers.xlsx', index = False)\n",
    "print('Exported To Excel')"
   ]
  },
  {
   "cell_type": "code",
   "execution_count": null,
   "id": "f95063b1-7dc9-478b-9700-c7865b2bfce8",
   "metadata": {},
   "outputs": [],
   "source": []
  }
 ],
 "metadata": {
  "kernelspec": {
   "display_name": "Python 3 (ipykernel)",
   "language": "python",
   "name": "python3"
  },
  "language_info": {
   "codemirror_mode": {
    "name": "ipython",
    "version": 3
   },
   "file_extension": ".py",
   "mimetype": "text/x-python",
   "name": "python",
   "nbconvert_exporter": "python",
   "pygments_lexer": "ipython3",
   "version": "3.13.5"
  }
 },
 "nbformat": 4,
 "nbformat_minor": 5
}
