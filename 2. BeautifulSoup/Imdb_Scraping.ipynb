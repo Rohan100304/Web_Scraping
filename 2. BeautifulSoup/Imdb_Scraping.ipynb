{
 "cells": [
  {
   "cell_type": "code",
   "execution_count": 1,
   "id": "efb612ca-7178-4765-bb43-2725c5bf058e",
   "metadata": {},
   "outputs": [],
   "source": [
    "import pandas as pd\n",
    "import bs4 as BeautifulSoup\n",
    "import requests"
   ]
  },
  {
   "cell_type": "code",
   "execution_count": 80,
   "id": "d25d3998-339e-4112-b881-84edbbc6789d",
   "metadata": {},
   "outputs": [],
   "source": [
    "\n",
    "url = 'https://www.imdb.com/chart/bottom/'\n",
    " "
   ]
  },
  {
   "cell_type": "code",
   "execution_count": 142,
   "id": "0002ee43-6454-405d-a438-ea6e466c6192",
   "metadata": {},
   "outputs": [],
   "source": [
    "movie= []\n",
    "years= []\n",
    "ScreenTime= []\n",
    "rated=[]\n",
    "star= []\n",
    "vote=[]\n"
   ]
  },
  {
   "cell_type": "code",
   "execution_count": 143,
   "id": "6068b0ed-8832-444e-a337-ee0350c87de5",
   "metadata": {},
   "outputs": [
    {
     "name": "stdout",
     "output_type": "stream",
     "text": [
      "Sucessfull Request!!\n",
      "\n"
     ]
    }
   ],
   "source": [
    "try:\n",
    "    response = requests.get(url, headers=headers)\n",
    "    response.raise_for_status()\n",
    "except Exception as e:\n",
    "    print(e)\n",
    "    \n",
    "else:\n",
    "    print('Sucessfull Request!!\\n')\n",
    "\n",
    "    soup = BeautifulSoup(response.content, 'html.parser')\n",
    "    #print(soup.prettify())\n",
    "    data= soup.find('ul',class_='ipc-metadata-list ipc-metadata-list--dividers-between sc-e22973a9-0 khSCXM compact-list-view ipc-metadata-list--base').find_all('li',class_='ipc-metadata-list-summary-item')\n",
    "\n",
    "    \n",
    "    for i in data:\n",
    "        name = i.find('h3', class_='ipc-title__text ipc-title__text--reduced').get_text(strip=True)\n",
    "        detail = i.find('div',class_='sc-dc48a950-7 hMHetG cli-title-metadata').get_text(strip=True)\n",
    "        year = detail[0:4]\n",
    "        time = detail[4:10]\n",
    "        ratings = detail[10:] if detail else \"N/A\"\n",
    "        stars = float(i.find('span',class_='ipc-rating-star--rating').get_text())\n",
    "        vote_count = i.find('span',class_='ipc-rating-star--voteCount').get_text().replace(\"(\", \"\").replace(\")\", \"\")\n",
    "\n",
    "\n",
    "\n",
    "        \n",
    "        movie.append(name)\n",
    "        years.append(year)\n",
    "        ScreenTime.append(time)\n",
    "        rated.append(ratings)\n",
    "        star.append(stars)\n",
    "        vote.append(vote_count)\n",
    "\n",
    "\n",
    "df={\n",
    "    \"Movie\":movie,\n",
    "    \"Release_year\": years,\n",
    "    'Screen_Time' : ScreenTime,\n",
    "    \"Rated\" : rated,\n",
    "    \"Stars\" : star,\n",
    "    \"Vote_count\" : vote\n",
    "}\n",
    "data= pd.DataFrame(df)"
   ]
  },
  {
   "cell_type": "code",
   "execution_count": 149,
   "id": "04741dfa-2f36-4bf0-886b-8d45afd418f3",
   "metadata": {},
   "outputs": [
    {
     "name": "stdout",
     "output_type": "stream",
     "text": [
      "                                Movie Release_year Screen_Time      Rated  \\\n",
      "0                   1. Disaster Movie         2008      1h 27m      PG-13   \n",
      "1         2. Manos: The Hands of Fate         1966      1h 10m  Not Rated   \n",
      "2       3. Birdemic: Shock and Terror         2010      1h 45m          U   \n",
      "3     4. Superbabies: Baby Geniuses 2         2004      1h 28m         PG   \n",
      "4                 5. Saving Christmas         2014      1h 19m         PG   \n",
      "5          6. The Hottie & the Nottie         2008      1h 31m      PG-13   \n",
      "6                7. House of the Dead         2003      1h 30m          A   \n",
      "7                  8. Son of the Mask         2005      1h 34m          U   \n",
      "8                            9. Radhe         2021      1h 49m         UA   \n",
      "9                      10. Epic Movie         2007      1h 26m          U   \n",
      "10                   11. Pledge This!         2006      1h 31m          R   \n",
      "11              12. Battlefield Earth         2000      1h 57m          A   \n",
      "12              13. Alone in the Dark         2005      1h 39m          A   \n",
      "13           14. Dragonball Evolution         2009      1h 25m          U   \n",
      "14                     15. Foodfight!         2012      1h 31m         PG   \n",
      "15                         16. Race 3         2018      2h 40m         UA   \n",
      "16                     17. Babes Ahoy         1989      1h 39m          R   \n",
      "17           18. From Justin to Kelly         2003      1h 21m         PG   \n",
      "18  19. Dünyayi Kurtaran Adam'in Oglu         2006      1h 50m  Not Rated   \n",
      "19              20. Meet the Spartans         2008      1h 27m         18   \n",
      "20                          21. Gigli         2003      2h 1mU              \n",
      "21              22. Daniel the Wizard         2004      1h 21m  Not Rated   \n",
      "22                     23. Date Movie         2006      1h 23m          A   \n",
      "23                           24. Cats         2019      1h 50m         UA   \n",
      "24                  25. Baby Geniuses         1999      1h 37m          U   \n",
      "\n",
      "    Stars Vote_count  \n",
      "0     1.9        97K  \n",
      "1     1.7        38K  \n",
      "2     1.7        26K  \n",
      "3     1.5        32K  \n",
      "4     1.3        17K  \n",
      "5     2.0        39K  \n",
      "6     2.1        39K  \n",
      "7     2.3        61K  \n",
      "8     1.8       181K  \n",
      "9     2.4       112K  \n",
      "10    1.7        19K  \n",
      "11    2.5        85K  \n",
      "12    2.4        48K  \n",
      "13    2.5        83K  \n",
      "14    1.3        12K  \n",
      "15    1.9        50K  \n",
      "16    1.8        15K  \n",
      "17    1.9        27K  \n",
      "18    1.5        17K  \n",
      "19    2.8       114K  \n",
      "20    2.7        52K  \n",
      "21    1.2        15K  \n",
      "22    2.8        63K  \n",
      "23    2.8        58K  \n",
      "24    2.6        28K  \n"
     ]
    }
   ],
   "source": [
    "print(data)"
   ]
  },
  {
   "cell_type": "code",
   "execution_count": 151,
   "id": "3db17509-321d-4bcf-a646-a7d2c1bcde05",
   "metadata": {},
   "outputs": [],
   "source": [
    "data.to_excel('Imdb_lowRated_script.xlsx',index=False)"
   ]
  },
  {
   "cell_type": "code",
   "execution_count": null,
   "id": "d4776558-f13f-4684-8ba0-fecf25baed97",
   "metadata": {},
   "outputs": [],
   "source": []
  },
  {
   "cell_type": "code",
   "execution_count": null,
   "id": "431e80b2-d205-434b-a213-5745b81a9eee",
   "metadata": {},
   "outputs": [],
   "source": []
  },
  {
   "cell_type": "code",
   "execution_count": null,
   "id": "56f5c914-aabd-4ba3-aba4-1642d0430bd9",
   "metadata": {},
   "outputs": [],
   "source": []
  },
  {
   "cell_type": "code",
   "execution_count": null,
   "id": "7c425096-94ee-486f-8a9c-110b5cf49c99",
   "metadata": {},
   "outputs": [],
   "source": []
  }
 ],
 "metadata": {
  "kernelspec": {
   "display_name": "Python 3 (ipykernel)",
   "language": "python",
   "name": "python3"
  },
  "language_info": {
   "codemirror_mode": {
    "name": "ipython",
    "version": 3
   },
   "file_extension": ".py",
   "mimetype": "text/x-python",
   "name": "python",
   "nbconvert_exporter": "python",
   "pygments_lexer": "ipython3",
   "version": "3.13.3"
  }
 },
 "nbformat": 4,
 "nbformat_minor": 5
}
